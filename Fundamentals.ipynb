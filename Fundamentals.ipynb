{
 "cells": [
  {
   "cell_type": "code",
   "execution_count": 1,
   "metadata": {},
   "outputs": [],
   "source": [
    "import math"
   ]
  },
  {
   "cell_type": "code",
   "execution_count": 3,
   "metadata": {},
   "outputs": [
    {
     "data": {
      "text/plain": [
       "5"
      ]
     },
     "execution_count": 3,
     "metadata": {},
     "output_type": "execute_result"
    }
   ],
   "source": [
    "def performOperation(num1, num2, operation):\n",
    "    if operation == 'sum':\n",
    "        return num1 + num2\n",
    "    if operation == 'multiply':\n",
    "        return num1 * num2\n",
    "    \n",
    "performOperation(2,3, 'sum')"
   ]
  },
  {
   "cell_type": "code",
   "execution_count": 5,
   "metadata": {},
   "outputs": [
    {
     "data": {
      "text/plain": [
       "6"
      ]
     },
     "execution_count": 5,
     "metadata": {},
     "output_type": "execute_result"
    }
   ],
   "source": [
    "performOperation(2,3, 'multiply')"
   ]
  },
  {
   "cell_type": "code",
   "execution_count": 8,
   "metadata": {},
   "outputs": [
    {
     "name": "stdout",
     "output_type": "stream",
     "text": [
      "A new message!\n"
     ]
    },
    {
     "data": {
      "text/plain": [
       "6"
      ]
     },
     "execution_count": 8,
     "metadata": {},
     "output_type": "execute_result"
    }
   ],
   "source": [
    "def performOperation(num1, num2, operation='sum', message='Default message'):\n",
    "    print(message)\n",
    "    if operation == \"sum\":\n",
    "        return num1 + num2\n",
    "    if operation == 'multiply':\n",
    "        return num1 * num2\n",
    "    \n",
    "performOperation(2,3, message='A new message!', operation='multiply')"
   ]
  },
  {
   "cell_type": "code",
   "execution_count": 12,
   "metadata": {},
   "outputs": [
    {
     "name": "stdout",
     "output_type": "stream",
     "text": [
      "(1, 2, 3)\n"
     ]
    }
   ],
   "source": [
    "def performOperation(*args):\n",
    "    print(args)\n",
    "performOperation(1,2,3)"
   ]
  },
  {
   "cell_type": "code",
   "execution_count": 14,
   "metadata": {},
   "outputs": [
    {
     "name": "stdout",
     "output_type": "stream",
     "text": [
      "(1, 2, 3)\n",
      "{'operation': 'sum'}\n"
     ]
    }
   ],
   "source": [
    "def performOperation(*args, **kwargs):\n",
    "    print(args)\n",
    "    print(kwargs)\n",
    "performOperation(1,2,3, operation='sum')"
   ]
  },
  {
   "cell_type": "code",
   "execution_count": 17,
   "metadata": {},
   "outputs": [
    {
     "data": {
      "text/plain": [
       "27"
      ]
     },
     "execution_count": 17,
     "metadata": {},
     "output_type": "execute_result"
    }
   ],
   "source": [
    "def performOperation(*args, operation='sum'):\n",
    "    if operation == 'sum':\n",
    "        return sum(args)\n",
    "    if operation == 'multiply':\n",
    "        return math.prod(args)\n",
    "    \n",
    "performOperation(1,2,3,6,7,8, operation='sum')"
   ]
  },
  {
   "cell_type": "code",
   "execution_count": 20,
   "metadata": {},
   "outputs": [
    {
     "name": "stdout",
     "output_type": "stream",
     "text": [
      "(1, 2)\n",
      "{'operation': 'sum'}\n"
     ]
    }
   ],
   "source": [
    "def performOperation(*args, **kwargs):\n",
    "    print(args)\n",
    "    print(kwargs)\n",
    "\n",
    "performOperation(1,2, operation='sum')"
   ]
  },
  {
   "cell_type": "code",
   "execution_count": 23,
   "metadata": {},
   "outputs": [
    {
     "name": "stdout",
     "output_type": "stream",
     "text": [
      "{'num1': 1, 'num2': 2, 'operation': 'multiply'}\n"
     ]
    }
   ],
   "source": [
    "#Locals\n",
    "\n",
    "def performOperation(num1, num2, operation='sum'):\n",
    "    print(locals())\n",
    "\n",
    "performOperation(1,2, operation='multiply')\n"
   ]
  },
  {
   "cell_type": "code",
   "execution_count": 25,
   "metadata": {},
   "outputs": [
    {
     "data": {
      "text/plain": [
       "{'__name__': '__main__',\n",
       " '__doc__': 'Automatically created module for IPython interactive environment',\n",
       " '__package__': None,\n",
       " '__loader__': None,\n",
       " '__spec__': None,\n",
       " '__builtin__': <module 'builtins' (built-in)>,\n",
       " '__builtins__': <module 'builtins' (built-in)>,\n",
       " '_ih': ['',\n",
       "  'import math',\n",
       "  \"def performOperation(num1, num2, operation):\\n    if operation == 'sum':\\n        return num1 + num2\\n    if operation == 'multiply':\\n        return num1 * num2\\n    \\nperformOperation(2,3, 'sum')\",\n",
       "  \"def performOperation(num1, num2, operation):\\n    if operation == 'sum':\\n        return num1 + num2\\n    if operation == 'multiply':\\n        return num1 * num2\\n    \\nperformOperation(2,3, 'sum')\",\n",
       "  \"performOperation(2,3, 'multiply')\",\n",
       "  \"performOperation(2,3, 'multiply')\",\n",
       "  'def performOperation(num1, num2, operation=\\'sum\\', message=\\'Default message\\'):\\n    print(message)\\n    if operation == \"sum\":\\n        return num1 + num2\\n    if operation == \\'multiply\\':\\n        return num1 * num2\\n    \\nperformOperation(2,3 message=\\'A new message!\\', operation=\\'multiply\\')',\n",
       "  'def performOperation(num1, num2, operation=\\'sum\\', message=\\'Default message\\'):\\n    print(message)\\n    if operation == \"sum\":\\n        return num1 + num2\\n    if operation == \\'multiply\\':\\n        return num1 * num2\\n    \\nperformOperation(2,3, message=\\'A new message!\\', operation=\\'multiply\\')',\n",
       "  'def performOperation(num1, num2, operation=\\'sum\\', message=\\'Default message\\'):\\n    print(message)\\n    if operation == \"sum\":\\n        return num1 + num2\\n    if operation == \\'multiply\\':\\n        return num1 * num2\\n    \\nperformOperation(2,3, message=\\'A new message!\\', operation=\\'multiply\\')',\n",
       "  'def performOperation(*args):\\n    print(args)\\nperformOperation(1,2,3)',\n",
       "  'def performOperation(*args):\\n    print(args)\\nperformOperation(1,2,3)',\n",
       "  \"performOperation(1,2,3, operation='sum')\",\n",
       "  'def performOperation(*args):\\n    print(args)\\nperformOperation(1,2,3)',\n",
       "  \"def performOperation(*args, **kwargs):\\n    print(args)\\n    print(kwargs)\\nperformOperation(1,2,3, operation='sum')\",\n",
       "  \"def performOperation(*args, **kwargs):\\n    print(args)\\n    print(kwargs)\\nperformOperation(1,2,3, operation='sum')\",\n",
       "  \"def performOperation(*args, **kwargs):\\n    if operation == 'sum':\\n        return sum(args)\\n    if operation == 'multiply':\\n        return math.prod(args)\\n    \\nperformOperation(1,2,3,6,7,8, operation='sum')\",\n",
       "  \"def performOperation(*args, operation='sum'):\\n    if operation == 'sum':\\n        return sum(args)\\n    if operation == 'multiply':\\n        return math.prod(args)\\n    \\nperformOperation(1,2,3,6,7,8, operation='sum')\",\n",
       "  \"def performOperation(*args, operation='sum'):\\n    if operation == 'sum':\\n        return sum(args)\\n    if operation == 'multiply':\\n        return math.prod(args)\\n    \\nperformOperation(1,2,3,6,7,8, operation='sum')\",\n",
       "  \"def performOperation(*args, **kwargs):\\n    print(args)\\n    print(kwargs)\\n\\nperformOperation(1,2, operation='sum')\",\n",
       "  \"def performOperation(*args, **kwargs):\\n    print(args)\\n    print(kwargs)\\n\\nperformOperation(1,2, operation='sum')\",\n",
       "  \"def performOperation(*args, **kwargs):\\n    print(args)\\n    print(kwargs)\\n\\nperformOperation(1,2, operation='sum')\",\n",
       "  \"#Locals\\n\\ndef performOperation(num1, num2, operation='sum'):\\n    print(locals())\\n\\nperformOperation(1,2, operation='multiply')\\nprint(num1)\",\n",
       "  \"#Locals\\n\\ndef performOperation(num1, num2, operation='sum'):\\n    print(locals())\\n\\nperformOperation(1,2, operation='multiply')\",\n",
       "  \"#Locals\\n\\ndef performOperation(num1, num2, operation='sum'):\\n    print(locals())\\n\\nperformOperation(1,2, operation='multiply')\",\n",
       "  'global()',\n",
       "  'globals()'],\n",
       " '_oh': {2: 5, 3: 5, 4: 6, 5: 6, 7: 6, 8: 6, 16: 27, 17: 27},\n",
       " '_dh': [WindowsPath('c:/Users/Anati.Jack/OneDrive - Cape IT Initiative/Documents/Python')],\n",
       " 'In': ['',\n",
       "  'import math',\n",
       "  \"def performOperation(num1, num2, operation):\\n    if operation == 'sum':\\n        return num1 + num2\\n    if operation == 'multiply':\\n        return num1 * num2\\n    \\nperformOperation(2,3, 'sum')\",\n",
       "  \"def performOperation(num1, num2, operation):\\n    if operation == 'sum':\\n        return num1 + num2\\n    if operation == 'multiply':\\n        return num1 * num2\\n    \\nperformOperation(2,3, 'sum')\",\n",
       "  \"performOperation(2,3, 'multiply')\",\n",
       "  \"performOperation(2,3, 'multiply')\",\n",
       "  'def performOperation(num1, num2, operation=\\'sum\\', message=\\'Default message\\'):\\n    print(message)\\n    if operation == \"sum\":\\n        return num1 + num2\\n    if operation == \\'multiply\\':\\n        return num1 * num2\\n    \\nperformOperation(2,3 message=\\'A new message!\\', operation=\\'multiply\\')',\n",
       "  'def performOperation(num1, num2, operation=\\'sum\\', message=\\'Default message\\'):\\n    print(message)\\n    if operation == \"sum\":\\n        return num1 + num2\\n    if operation == \\'multiply\\':\\n        return num1 * num2\\n    \\nperformOperation(2,3, message=\\'A new message!\\', operation=\\'multiply\\')',\n",
       "  'def performOperation(num1, num2, operation=\\'sum\\', message=\\'Default message\\'):\\n    print(message)\\n    if operation == \"sum\":\\n        return num1 + num2\\n    if operation == \\'multiply\\':\\n        return num1 * num2\\n    \\nperformOperation(2,3, message=\\'A new message!\\', operation=\\'multiply\\')',\n",
       "  'def performOperation(*args):\\n    print(args)\\nperformOperation(1,2,3)',\n",
       "  'def performOperation(*args):\\n    print(args)\\nperformOperation(1,2,3)',\n",
       "  \"performOperation(1,2,3, operation='sum')\",\n",
       "  'def performOperation(*args):\\n    print(args)\\nperformOperation(1,2,3)',\n",
       "  \"def performOperation(*args, **kwargs):\\n    print(args)\\n    print(kwargs)\\nperformOperation(1,2,3, operation='sum')\",\n",
       "  \"def performOperation(*args, **kwargs):\\n    print(args)\\n    print(kwargs)\\nperformOperation(1,2,3, operation='sum')\",\n",
       "  \"def performOperation(*args, **kwargs):\\n    if operation == 'sum':\\n        return sum(args)\\n    if operation == 'multiply':\\n        return math.prod(args)\\n    \\nperformOperation(1,2,3,6,7,8, operation='sum')\",\n",
       "  \"def performOperation(*args, operation='sum'):\\n    if operation == 'sum':\\n        return sum(args)\\n    if operation == 'multiply':\\n        return math.prod(args)\\n    \\nperformOperation(1,2,3,6,7,8, operation='sum')\",\n",
       "  \"def performOperation(*args, operation='sum'):\\n    if operation == 'sum':\\n        return sum(args)\\n    if operation == 'multiply':\\n        return math.prod(args)\\n    \\nperformOperation(1,2,3,6,7,8, operation='sum')\",\n",
       "  \"def performOperation(*args, **kwargs):\\n    print(args)\\n    print(kwargs)\\n\\nperformOperation(1,2, operation='sum')\",\n",
       "  \"def performOperation(*args, **kwargs):\\n    print(args)\\n    print(kwargs)\\n\\nperformOperation(1,2, operation='sum')\",\n",
       "  \"def performOperation(*args, **kwargs):\\n    print(args)\\n    print(kwargs)\\n\\nperformOperation(1,2, operation='sum')\",\n",
       "  \"#Locals\\n\\ndef performOperation(num1, num2, operation='sum'):\\n    print(locals())\\n\\nperformOperation(1,2, operation='multiply')\\nprint(num1)\",\n",
       "  \"#Locals\\n\\ndef performOperation(num1, num2, operation='sum'):\\n    print(locals())\\n\\nperformOperation(1,2, operation='multiply')\",\n",
       "  \"#Locals\\n\\ndef performOperation(num1, num2, operation='sum'):\\n    print(locals())\\n\\nperformOperation(1,2, operation='multiply')\",\n",
       "  'global()',\n",
       "  'globals()'],\n",
       " 'Out': {2: 5, 3: 5, 4: 6, 5: 6, 7: 6, 8: 6, 16: 27, 17: 27},\n",
       " 'get_ipython': <bound method InteractiveShell.get_ipython of <ipykernel.zmqshell.ZMQInteractiveShell object at 0x00000218E8400D10>>,\n",
       " 'exit': <IPython.core.autocall.ZMQExitAutocall at 0x218e8401550>,\n",
       " 'quit': <IPython.core.autocall.ZMQExitAutocall at 0x218e8401550>,\n",
       " 'open': <function _io.open(file, mode='r', buffering=-1, encoding=None, errors=None, newline=None, closefd=True, opener=None)>,\n",
       " '_': 27,\n",
       " '__': 27,\n",
       " '___': 6,\n",
       " '__vsc_ipynb_file__': 'Untitled-1.ipynb',\n",
       " '_i': 'global()',\n",
       " '_ii': \"#Locals\\n\\ndef performOperation(num1, num2, operation='sum'):\\n    print(locals())\\n\\nperformOperation(1,2, operation='multiply')\",\n",
       " '_iii': \"#Locals\\n\\ndef performOperation(num1, num2, operation='sum'):\\n    print(locals())\\n\\nperformOperation(1,2, operation='multiply')\",\n",
       " '_i1': 'import math',\n",
       " 'math': <module 'math' (built-in)>,\n",
       " '_i2': \"def performOperation(num1, num2, operation):\\n    if operation == 'sum':\\n        return num1 + num2\\n    if operation == 'multiply':\\n        return num1 * num2\\n    \\nperformOperation(2,3, 'sum')\",\n",
       " 'performOperation': <function __main__.performOperation(num1, num2, operation='sum')>,\n",
       " '_2': 5,\n",
       " '_i3': \"def performOperation(num1, num2, operation):\\n    if operation == 'sum':\\n        return num1 + num2\\n    if operation == 'multiply':\\n        return num1 * num2\\n    \\nperformOperation(2,3, 'sum')\",\n",
       " '_3': 5,\n",
       " '_i4': \"performOperation(2,3, 'multiply')\",\n",
       " '_4': 6,\n",
       " '_i5': \"performOperation(2,3, 'multiply')\",\n",
       " '_5': 6,\n",
       " '_i6': 'def performOperation(num1, num2, operation=\\'sum\\', message=\\'Default message\\'):\\n    print(message)\\n    if operation == \"sum\":\\n        return num1 + num2\\n    if operation == \\'multiply\\':\\n        return num1 * num2\\n    \\nperformOperation(2,3 message=\\'A new message!\\', operation=\\'multiply\\')',\n",
       " '_i7': 'def performOperation(num1, num2, operation=\\'sum\\', message=\\'Default message\\'):\\n    print(message)\\n    if operation == \"sum\":\\n        return num1 + num2\\n    if operation == \\'multiply\\':\\n        return num1 * num2\\n    \\nperformOperation(2,3, message=\\'A new message!\\', operation=\\'multiply\\')',\n",
       " '_7': 6,\n",
       " '_i8': 'def performOperation(num1, num2, operation=\\'sum\\', message=\\'Default message\\'):\\n    print(message)\\n    if operation == \"sum\":\\n        return num1 + num2\\n    if operation == \\'multiply\\':\\n        return num1 * num2\\n    \\nperformOperation(2,3, message=\\'A new message!\\', operation=\\'multiply\\')',\n",
       " '_8': 6,\n",
       " '_i9': 'def performOperation(*args):\\n    print(args)\\nperformOperation(1,2,3)',\n",
       " '_i10': 'def performOperation(*args):\\n    print(args)\\nperformOperation(1,2,3)',\n",
       " '_i11': \"performOperation(1,2,3, operation='sum')\",\n",
       " '_i12': 'def performOperation(*args):\\n    print(args)\\nperformOperation(1,2,3)',\n",
       " '_i13': \"def performOperation(*args, **kwargs):\\n    print(args)\\n    print(kwargs)\\nperformOperation(1,2,3, operation='sum')\",\n",
       " '_i14': \"def performOperation(*args, **kwargs):\\n    print(args)\\n    print(kwargs)\\nperformOperation(1,2,3, operation='sum')\",\n",
       " '_i15': \"def performOperation(*args, **kwargs):\\n    if operation == 'sum':\\n        return sum(args)\\n    if operation == 'multiply':\\n        return math.prod(args)\\n    \\nperformOperation(1,2,3,6,7,8, operation='sum')\",\n",
       " '_i16': \"def performOperation(*args, operation='sum'):\\n    if operation == 'sum':\\n        return sum(args)\\n    if operation == 'multiply':\\n        return math.prod(args)\\n    \\nperformOperation(1,2,3,6,7,8, operation='sum')\",\n",
       " '_16': 27,\n",
       " '_i17': \"def performOperation(*args, operation='sum'):\\n    if operation == 'sum':\\n        return sum(args)\\n    if operation == 'multiply':\\n        return math.prod(args)\\n    \\nperformOperation(1,2,3,6,7,8, operation='sum')\",\n",
       " '_17': 27,\n",
       " '_i18': \"def performOperation(*args, **kwargs):\\n    print(args)\\n    print(kwargs)\\n\\nperformOperation(1,2, operation='sum')\",\n",
       " '_i19': \"def performOperation(*args, **kwargs):\\n    print(args)\\n    print(kwargs)\\n\\nperformOperation(1,2, operation='sum')\",\n",
       " '_i20': \"def performOperation(*args, **kwargs):\\n    print(args)\\n    print(kwargs)\\n\\nperformOperation(1,2, operation='sum')\",\n",
       " '_i21': \"#Locals\\n\\ndef performOperation(num1, num2, operation='sum'):\\n    print(locals())\\n\\nperformOperation(1,2, operation='multiply')\\nprint(num1)\",\n",
       " '_i22': \"#Locals\\n\\ndef performOperation(num1, num2, operation='sum'):\\n    print(locals())\\n\\nperformOperation(1,2, operation='multiply')\",\n",
       " '_i23': \"#Locals\\n\\ndef performOperation(num1, num2, operation='sum'):\\n    print(locals())\\n\\nperformOperation(1,2, operation='multiply')\",\n",
       " '_i24': 'global()',\n",
       " '_i25': 'globals()'}"
      ]
     },
     "execution_count": 25,
     "metadata": {},
     "output_type": "execute_result"
    }
   ],
   "source": [
    "globals()"
   ]
  },
  {
   "cell_type": "code",
   "execution_count": 28,
   "metadata": {},
   "outputs": [
    {
     "name": "stdout",
     "output_type": "stream",
     "text": [
      "Some golbal data\n",
      "{'varA': 1, 'varB': 2}\n",
      "Some golbal data\n",
      "{'varC': 3, 'varD': 4}\n"
     ]
    }
   ],
   "source": [
    "message = 'Some golbal data'\n",
    "\n",
    "def function1(varA, varB):\n",
    "    print(message)\n",
    "    print(locals())\n",
    "\n",
    "def function2(varC, varD):\n",
    "    print(message)\n",
    "    print(locals())\n",
    "\n",
    "function1(1,2)\n",
    "function2(3,4)"
   ]
  },
  {
   "cell_type": "code",
   "execution_count": null,
   "metadata": {},
   "outputs": [],
   "source": [
    "message = 'Some global data'\n",
    "varA = 2\n",
    "def function1(varA, varB):\n",
    "    message ='Some local data'\n",
    "    print(varA)\n",
    "    print(message)\n",
    "    print(locals())\n",
    "\n",
    "def function2(varC, varD):\n",
    "    print(varA)\n",
    "    print(message)\n",
    "    print(locals())"
   ]
  }
 ],
 "metadata": {
  "kernelspec": {
   "display_name": "Python 3",
   "language": "python",
   "name": "python3"
  },
  "language_info": {
   "codemirror_mode": {
    "name": "ipython",
    "version": 3
   },
   "file_extension": ".py",
   "mimetype": "text/x-python",
   "name": "python",
   "nbconvert_exporter": "python",
   "pygments_lexer": "ipython3",
   "version": "3.12.2"
  }
 },
 "nbformat": 4,
 "nbformat_minor": 2
}
