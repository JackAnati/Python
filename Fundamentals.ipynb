{
 "cells": [
  {
   "cell_type": "code",
   "execution_count": 1,
   "metadata": {},
   "outputs": [],
   "source": [
    "import math"
   ]
  },
  {
   "cell_type": "code",
   "execution_count": 3,
   "metadata": {},
   "outputs": [
    {
     "data": {
      "text/plain": [
       "5"
      ]
     },
     "execution_count": 3,
     "metadata": {},
     "output_type": "execute_result"
    }
   ],
   "source": [
    "def performOperation(num1, num2, operation):\n",
    "    if operation == 'sum':\n",
    "        return num1 + num2\n",
    "    if operation == 'multiply':\n",
    "        return num1 * num2\n",
    "    \n",
    "performOperation(2,3, 'sum')"
   ]
  },
  {
   "cell_type": "code",
   "execution_count": 5,
   "metadata": {},
   "outputs": [
    {
     "data": {
      "text/plain": [
       "6"
      ]
     },
     "execution_count": 5,
     "metadata": {},
     "output_type": "execute_result"
    }
   ],
   "source": [
    "performOperation(2,3, 'multiply')"
   ]
  },
  {
   "cell_type": "code",
   "execution_count": 8,
   "metadata": {},
   "outputs": [
    {
     "name": "stdout",
     "output_type": "stream",
     "text": [
      "A new message!\n"
     ]
    },
    {
     "data": {
      "text/plain": [
       "6"
      ]
     },
     "execution_count": 8,
     "metadata": {},
     "output_type": "execute_result"
    }
   ],
   "source": [
    "def performOperation(num1, num2, operation='sum', message='Default message'):\n",
    "    print(message)\n",
    "    if operation == \"sum\":\n",
    "        return num1 + num2\n",
    "    if operation == 'multiply':\n",
    "        return num1 * num2\n",
    "    \n",
    "performOperation(2,3, message='A new message!', operation='multiply')"
   ]
  },
  {
   "cell_type": "code",
   "execution_count": 1,
   "metadata": {},
   "outputs": [
    {
     "name": "stdout",
     "output_type": "stream",
     "text": [
      "(1, 2, 3)\n"
     ]
    }
   ],
   "source": [
    "def performOperation(*args):\n",
    "    print(args)\n",
    "performOperation(1,2,3)"
   ]
  },
  {
   "cell_type": "code",
   "execution_count": 14,
   "metadata": {},
   "outputs": [
    {
     "name": "stdout",
     "output_type": "stream",
     "text": [
      "(1, 2, 3)\n",
      "{'operation': 'sum'}\n"
     ]
    }
   ],
   "source": [
    "def performOperation(*args, **kwargs):\n",
    "    print(args)\n",
    "    print(kwargs)\n",
    "performOperation(1,2,3, operation='sum')"
   ]
  },
  {
   "cell_type": "code",
   "execution_count": 17,
   "metadata": {},
   "outputs": [
    {
     "data": {
      "text/plain": [
       "27"
      ]
     },
     "execution_count": 17,
     "metadata": {},
     "output_type": "execute_result"
    }
   ],
   "source": [
    "def performOperation(*args, operation='sum'):\n",
    "    if operation == 'sum':\n",
    "        return sum(args)\n",
    "    if operation == 'multiply':\n",
    "        return math.prod(args)\n",
    "    \n",
    "performOperation(1,2,3,6,7,8, operation='sum')"
   ]
  },
  {
   "cell_type": "code",
   "execution_count": 20,
   "metadata": {},
   "outputs": [
    {
     "name": "stdout",
     "output_type": "stream",
     "text": [
      "(1, 2)\n",
      "{'operation': 'sum'}\n"
     ]
    }
   ],
   "source": [
    "def performOperation(*args, **kwargs):\n",
    "    print(args)\n",
    "    print(kwargs)\n",
    "\n",
    "performOperation(1,2, operation='sum')"
   ]
  },
  {
   "cell_type": "code",
   "execution_count": 23,
   "metadata": {},
   "outputs": [
    {
     "name": "stdout",
     "output_type": "stream",
     "text": [
      "{'num1': 1, 'num2': 2, 'operation': 'multiply'}\n"
     ]
    }
   ],
   "source": [
    "#Locals\n",
    "\n",
    "def performOperation(num1, num2, operation='sum'):\n",
    "    print(locals())\n",
    "\n",
    "performOperation(1,2, operation='multiply')\n"
   ]
  },
  {
   "cell_type": "code",
   "execution_count": 25,
   "metadata": {},
   "outputs": [
    {
     "data": {
      "text/plain": [
       "{'__name__': '__main__',\n",
       " '__doc__': 'Automatically created module for IPython interactive environment',\n",
       " '__package__': None,\n",
       " '__loader__': None,\n",
       " '__spec__': None,\n",
       " '__builtin__': <module 'builtins' (built-in)>,\n",
       " '__builtins__': <module 'builtins' (built-in)>,\n",
       " '_ih': ['',\n",
       "  'import math',\n",
       "  \"def performOperation(num1, num2, operation):\\n    if operation == 'sum':\\n        return num1 + num2\\n    if operation == 'multiply':\\n        return num1 * num2\\n    \\nperformOperation(2,3, 'sum')\",\n",
       "  \"def performOperation(num1, num2, operation):\\n    if operation == 'sum':\\n        return num1 + num2\\n    if operation == 'multiply':\\n        return num1 * num2\\n    \\nperformOperation(2,3, 'sum')\",\n",
       "  \"performOperation(2,3, 'multiply')\",\n",
       "  \"performOperation(2,3, 'multiply')\",\n",
       "  'def performOperation(num1, num2, operation=\\'sum\\', message=\\'Default message\\'):\\n    print(message)\\n    if operation == \"sum\":\\n        return num1 + num2\\n    if operation == \\'multiply\\':\\n        return num1 * num2\\n    \\nperformOperation(2,3 message=\\'A new message!\\', operation=\\'multiply\\')',\n",
       "  'def performOperation(num1, num2, operation=\\'sum\\', message=\\'Default message\\'):\\n    print(message)\\n    if operation == \"sum\":\\n        return num1 + num2\\n    if operation == \\'multiply\\':\\n        return num1 * num2\\n    \\nperformOperation(2,3, message=\\'A new message!\\', operation=\\'multiply\\')',\n",
       "  'def performOperation(num1, num2, operation=\\'sum\\', message=\\'Default message\\'):\\n    print(message)\\n    if operation == \"sum\":\\n        return num1 + num2\\n    if operation == \\'multiply\\':\\n        return num1 * num2\\n    \\nperformOperation(2,3, message=\\'A new message!\\', operation=\\'multiply\\')',\n",
       "  'def performOperation(*args):\\n    print(args)\\nperformOperation(1,2,3)',\n",
       "  'def performOperation(*args):\\n    print(args)\\nperformOperation(1,2,3)',\n",
       "  \"performOperation(1,2,3, operation='sum')\",\n",
       "  'def performOperation(*args):\\n    print(args)\\nperformOperation(1,2,3)',\n",
       "  \"def performOperation(*args, **kwargs):\\n    print(args)\\n    print(kwargs)\\nperformOperation(1,2,3, operation='sum')\",\n",
       "  \"def performOperation(*args, **kwargs):\\n    print(args)\\n    print(kwargs)\\nperformOperation(1,2,3, operation='sum')\",\n",
       "  \"def performOperation(*args, **kwargs):\\n    if operation == 'sum':\\n        return sum(args)\\n    if operation == 'multiply':\\n        return math.prod(args)\\n    \\nperformOperation(1,2,3,6,7,8, operation='sum')\",\n",
       "  \"def performOperation(*args, operation='sum'):\\n    if operation == 'sum':\\n        return sum(args)\\n    if operation == 'multiply':\\n        return math.prod(args)\\n    \\nperformOperation(1,2,3,6,7,8, operation='sum')\",\n",
       "  \"def performOperation(*args, operation='sum'):\\n    if operation == 'sum':\\n        return sum(args)\\n    if operation == 'multiply':\\n        return math.prod(args)\\n    \\nperformOperation(1,2,3,6,7,8, operation='sum')\",\n",
       "  \"def performOperation(*args, **kwargs):\\n    print(args)\\n    print(kwargs)\\n\\nperformOperation(1,2, operation='sum')\",\n",
       "  \"def performOperation(*args, **kwargs):\\n    print(args)\\n    print(kwargs)\\n\\nperformOperation(1,2, operation='sum')\",\n",
       "  \"def performOperation(*args, **kwargs):\\n    print(args)\\n    print(kwargs)\\n\\nperformOperation(1,2, operation='sum')\",\n",
       "  \"#Locals\\n\\ndef performOperation(num1, num2, operation='sum'):\\n    print(locals())\\n\\nperformOperation(1,2, operation='multiply')\\nprint(num1)\",\n",
       "  \"#Locals\\n\\ndef performOperation(num1, num2, operation='sum'):\\n    print(locals())\\n\\nperformOperation(1,2, operation='multiply')\",\n",
       "  \"#Locals\\n\\ndef performOperation(num1, num2, operation='sum'):\\n    print(locals())\\n\\nperformOperation(1,2, operation='multiply')\",\n",
       "  'global()',\n",
       "  'globals()'],\n",
       " '_oh': {2: 5, 3: 5, 4: 6, 5: 6, 7: 6, 8: 6, 16: 27, 17: 27},\n",
       " '_dh': [WindowsPath('c:/Users/Anati.Jack/OneDrive - Cape IT Initiative/Documents/Python')],\n",
       " 'In': ['',\n",
       "  'import math',\n",
       "  \"def performOperation(num1, num2, operation):\\n    if operation == 'sum':\\n        return num1 + num2\\n    if operation == 'multiply':\\n        return num1 * num2\\n    \\nperformOperation(2,3, 'sum')\",\n",
       "  \"def performOperation(num1, num2, operation):\\n    if operation == 'sum':\\n        return num1 + num2\\n    if operation == 'multiply':\\n        return num1 * num2\\n    \\nperformOperation(2,3, 'sum')\",\n",
       "  \"performOperation(2,3, 'multiply')\",\n",
       "  \"performOperation(2,3, 'multiply')\",\n",
       "  'def performOperation(num1, num2, operation=\\'sum\\', message=\\'Default message\\'):\\n    print(message)\\n    if operation == \"sum\":\\n        return num1 + num2\\n    if operation == \\'multiply\\':\\n        return num1 * num2\\n    \\nperformOperation(2,3 message=\\'A new message!\\', operation=\\'multiply\\')',\n",
       "  'def performOperation(num1, num2, operation=\\'sum\\', message=\\'Default message\\'):\\n    print(message)\\n    if operation == \"sum\":\\n        return num1 + num2\\n    if operation == \\'multiply\\':\\n        return num1 * num2\\n    \\nperformOperation(2,3, message=\\'A new message!\\', operation=\\'multiply\\')',\n",
       "  'def performOperation(num1, num2, operation=\\'sum\\', message=\\'Default message\\'):\\n    print(message)\\n    if operation == \"sum\":\\n        return num1 + num2\\n    if operation == \\'multiply\\':\\n        return num1 * num2\\n    \\nperformOperation(2,3, message=\\'A new message!\\', operation=\\'multiply\\')',\n",
       "  'def performOperation(*args):\\n    print(args)\\nperformOperation(1,2,3)',\n",
       "  'def performOperation(*args):\\n    print(args)\\nperformOperation(1,2,3)',\n",
       "  \"performOperation(1,2,3, operation='sum')\",\n",
       "  'def performOperation(*args):\\n    print(args)\\nperformOperation(1,2,3)',\n",
       "  \"def performOperation(*args, **kwargs):\\n    print(args)\\n    print(kwargs)\\nperformOperation(1,2,3, operation='sum')\",\n",
       "  \"def performOperation(*args, **kwargs):\\n    print(args)\\n    print(kwargs)\\nperformOperation(1,2,3, operation='sum')\",\n",
       "  \"def performOperation(*args, **kwargs):\\n    if operation == 'sum':\\n        return sum(args)\\n    if operation == 'multiply':\\n        return math.prod(args)\\n    \\nperformOperation(1,2,3,6,7,8, operation='sum')\",\n",
       "  \"def performOperation(*args, operation='sum'):\\n    if operation == 'sum':\\n        return sum(args)\\n    if operation == 'multiply':\\n        return math.prod(args)\\n    \\nperformOperation(1,2,3,6,7,8, operation='sum')\",\n",
       "  \"def performOperation(*args, operation='sum'):\\n    if operation == 'sum':\\n        return sum(args)\\n    if operation == 'multiply':\\n        return math.prod(args)\\n    \\nperformOperation(1,2,3,6,7,8, operation='sum')\",\n",
       "  \"def performOperation(*args, **kwargs):\\n    print(args)\\n    print(kwargs)\\n\\nperformOperation(1,2, operation='sum')\",\n",
       "  \"def performOperation(*args, **kwargs):\\n    print(args)\\n    print(kwargs)\\n\\nperformOperation(1,2, operation='sum')\",\n",
       "  \"def performOperation(*args, **kwargs):\\n    print(args)\\n    print(kwargs)\\n\\nperformOperation(1,2, operation='sum')\",\n",
       "  \"#Locals\\n\\ndef performOperation(num1, num2, operation='sum'):\\n    print(locals())\\n\\nperformOperation(1,2, operation='multiply')\\nprint(num1)\",\n",
       "  \"#Locals\\n\\ndef performOperation(num1, num2, operation='sum'):\\n    print(locals())\\n\\nperformOperation(1,2, operation='multiply')\",\n",
       "  \"#Locals\\n\\ndef performOperation(num1, num2, operation='sum'):\\n    print(locals())\\n\\nperformOperation(1,2, operation='multiply')\",\n",
       "  'global()',\n",
       "  'globals()'],\n",
       " 'Out': {2: 5, 3: 5, 4: 6, 5: 6, 7: 6, 8: 6, 16: 27, 17: 27},\n",
       " 'get_ipython': <bound method InteractiveShell.get_ipython of <ipykernel.zmqshell.ZMQInteractiveShell object at 0x00000218E8400D10>>,\n",
       " 'exit': <IPython.core.autocall.ZMQExitAutocall at 0x218e8401550>,\n",
       " 'quit': <IPython.core.autocall.ZMQExitAutocall at 0x218e8401550>,\n",
       " 'open': <function _io.open(file, mode='r', buffering=-1, encoding=None, errors=None, newline=None, closefd=True, opener=None)>,\n",
       " '_': 27,\n",
       " '__': 27,\n",
       " '___': 6,\n",
       " '__vsc_ipynb_file__': 'Untitled-1.ipynb',\n",
       " '_i': 'global()',\n",
       " '_ii': \"#Locals\\n\\ndef performOperation(num1, num2, operation='sum'):\\n    print(locals())\\n\\nperformOperation(1,2, operation='multiply')\",\n",
       " '_iii': \"#Locals\\n\\ndef performOperation(num1, num2, operation='sum'):\\n    print(locals())\\n\\nperformOperation(1,2, operation='multiply')\",\n",
       " '_i1': 'import math',\n",
       " 'math': <module 'math' (built-in)>,\n",
       " '_i2': \"def performOperation(num1, num2, operation):\\n    if operation == 'sum':\\n        return num1 + num2\\n    if operation == 'multiply':\\n        return num1 * num2\\n    \\nperformOperation(2,3, 'sum')\",\n",
       " 'performOperation': <function __main__.performOperation(num1, num2, operation='sum')>,\n",
       " '_2': 5,\n",
       " '_i3': \"def performOperation(num1, num2, operation):\\n    if operation == 'sum':\\n        return num1 + num2\\n    if operation == 'multiply':\\n        return num1 * num2\\n    \\nperformOperation(2,3, 'sum')\",\n",
       " '_3': 5,\n",
       " '_i4': \"performOperation(2,3, 'multiply')\",\n",
       " '_4': 6,\n",
       " '_i5': \"performOperation(2,3, 'multiply')\",\n",
       " '_5': 6,\n",
       " '_i6': 'def performOperation(num1, num2, operation=\\'sum\\', message=\\'Default message\\'):\\n    print(message)\\n    if operation == \"sum\":\\n        return num1 + num2\\n    if operation == \\'multiply\\':\\n        return num1 * num2\\n    \\nperformOperation(2,3 message=\\'A new message!\\', operation=\\'multiply\\')',\n",
       " '_i7': 'def performOperation(num1, num2, operation=\\'sum\\', message=\\'Default message\\'):\\n    print(message)\\n    if operation == \"sum\":\\n        return num1 + num2\\n    if operation == \\'multiply\\':\\n        return num1 * num2\\n    \\nperformOperation(2,3, message=\\'A new message!\\', operation=\\'multiply\\')',\n",
       " '_7': 6,\n",
       " '_i8': 'def performOperation(num1, num2, operation=\\'sum\\', message=\\'Default message\\'):\\n    print(message)\\n    if operation == \"sum\":\\n        return num1 + num2\\n    if operation == \\'multiply\\':\\n        return num1 * num2\\n    \\nperformOperation(2,3, message=\\'A new message!\\', operation=\\'multiply\\')',\n",
       " '_8': 6,\n",
       " '_i9': 'def performOperation(*args):\\n    print(args)\\nperformOperation(1,2,3)',\n",
       " '_i10': 'def performOperation(*args):\\n    print(args)\\nperformOperation(1,2,3)',\n",
       " '_i11': \"performOperation(1,2,3, operation='sum')\",\n",
       " '_i12': 'def performOperation(*args):\\n    print(args)\\nperformOperation(1,2,3)',\n",
       " '_i13': \"def performOperation(*args, **kwargs):\\n    print(args)\\n    print(kwargs)\\nperformOperation(1,2,3, operation='sum')\",\n",
       " '_i14': \"def performOperation(*args, **kwargs):\\n    print(args)\\n    print(kwargs)\\nperformOperation(1,2,3, operation='sum')\",\n",
       " '_i15': \"def performOperation(*args, **kwargs):\\n    if operation == 'sum':\\n        return sum(args)\\n    if operation == 'multiply':\\n        return math.prod(args)\\n    \\nperformOperation(1,2,3,6,7,8, operation='sum')\",\n",
       " '_i16': \"def performOperation(*args, operation='sum'):\\n    if operation == 'sum':\\n        return sum(args)\\n    if operation == 'multiply':\\n        return math.prod(args)\\n    \\nperformOperation(1,2,3,6,7,8, operation='sum')\",\n",
       " '_16': 27,\n",
       " '_i17': \"def performOperation(*args, operation='sum'):\\n    if operation == 'sum':\\n        return sum(args)\\n    if operation == 'multiply':\\n        return math.prod(args)\\n    \\nperformOperation(1,2,3,6,7,8, operation='sum')\",\n",
       " '_17': 27,\n",
       " '_i18': \"def performOperation(*args, **kwargs):\\n    print(args)\\n    print(kwargs)\\n\\nperformOperation(1,2, operation='sum')\",\n",
       " '_i19': \"def performOperation(*args, **kwargs):\\n    print(args)\\n    print(kwargs)\\n\\nperformOperation(1,2, operation='sum')\",\n",
       " '_i20': \"def performOperation(*args, **kwargs):\\n    print(args)\\n    print(kwargs)\\n\\nperformOperation(1,2, operation='sum')\",\n",
       " '_i21': \"#Locals\\n\\ndef performOperation(num1, num2, operation='sum'):\\n    print(locals())\\n\\nperformOperation(1,2, operation='multiply')\\nprint(num1)\",\n",
       " '_i22': \"#Locals\\n\\ndef performOperation(num1, num2, operation='sum'):\\n    print(locals())\\n\\nperformOperation(1,2, operation='multiply')\",\n",
       " '_i23': \"#Locals\\n\\ndef performOperation(num1, num2, operation='sum'):\\n    print(locals())\\n\\nperformOperation(1,2, operation='multiply')\",\n",
       " '_i24': 'global()',\n",
       " '_i25': 'globals()'}"
      ]
     },
     "execution_count": 25,
     "metadata": {},
     "output_type": "execute_result"
    }
   ],
   "source": [
    "globals()"
   ]
  },
  {
   "cell_type": "code",
   "execution_count": 28,
   "metadata": {},
   "outputs": [
    {
     "name": "stdout",
     "output_type": "stream",
     "text": [
      "Some golbal data\n",
      "{'varA': 1, 'varB': 2}\n",
      "Some golbal data\n",
      "{'varC': 3, 'varD': 4}\n"
     ]
    }
   ],
   "source": [
    "message = 'Some golbal data'\n",
    "\n",
    "def function1(varA, varB):\n",
    "    print(message)\n",
    "    print(locals())\n",
    "\n",
    "def function2(varC, varD):\n",
    "    print(message)\n",
    "    print(locals())\n",
    "\n",
    "function1(1,2)\n",
    "function2(3,4)"
   ]
  },
  {
   "cell_type": "code",
   "execution_count": 3,
   "metadata": {},
   "outputs": [
    {
     "name": "stdout",
     "output_type": "stream",
     "text": [
      "1\n",
      "Some local data\n",
      "{'varA': 1, 'varB': 2, 'message': 'Some local data'}\n",
      "2\n",
      "Some global data\n",
      "{'varC': 3, 'varD': 4}\n"
     ]
    }
   ],
   "source": [
    "message = 'Some global data'\n",
    "varA = 2\n",
    "def function1(varA, varB):\n",
    "    message ='Some local data'\n",
    "    print(varA)\n",
    "    print(message)\n",
    "    print(locals())\n",
    "\n",
    "def function2(varC, varD):\n",
    "    print(varA)\n",
    "    print(message)\n",
    "    print(locals())\n",
    "\n",
    "function1(1,2)\n",
    "function2(3,4)"
   ]
  },
  {
   "cell_type": "code",
   "execution_count": 5,
   "metadata": {},
   "outputs": [],
   "source": [
    "x=5"
   ]
  },
  {
   "cell_type": "code",
   "execution_count": 6,
   "metadata": {},
   "outputs": [],
   "source": [
    "def x():\n",
    "    return 5."
   ]
  },
  {
   "cell_type": "code",
   "execution_count": 3,
   "metadata": {},
   "outputs": [],
   "source": [
    "# Variables as Functions\n",
    "\n",
    "x=5"
   ]
  },
  {
   "cell_type": "code",
   "execution_count": 11,
   "metadata": {},
   "outputs": [],
   "source": [
    "def x():\n",
    "    return 5 "
   ]
  },
  {
   "cell_type": "code",
   "execution_count": 14,
   "metadata": {},
   "outputs": [
    {
     "name": "stdout",
     "output_type": "stream",
     "text": [
      "()\n",
      "b'\\x97\\x00y\\x01'\n"
     ]
    }
   ],
   "source": [
    "print(x.__code__.co_varnames)\n",
    "print(x.__code__.co_code)"
   ]
  },
  {
   "cell_type": "code",
   "execution_count": 15,
   "metadata": {},
   "outputs": [],
   "source": [
    "text = '''\n",
    "Beautiful is better than ugly.\n",
    "Explicity is better than implicit.\n",
    "Simple is better yhan complex.\n",
    "Complex is bettr than complicated.\n",
    "Flat is better than nested.\n",
    "Sparse is better than dense.\n",
    "Readability counts.\n",
    "\n",
    "'''"
   ]
  },
  {
   "cell_type": "code",
   "execution_count": 17,
   "metadata": {},
   "outputs": [],
   "source": [
    "def lowercase(text):\n",
    "    return text.lower()\n",
    "\n",
    "def removePunctuation(text):\n",
    "    punctuations = ['.', '-', ',', '*']\n",
    "    for punctuation in punctuations:\n",
    "        text = text.replace(punctuation, '')\n",
    "    return text\n",
    "\n",
    "def removeNewLines(text):\n",
    "    text = text.replace('\\n', ' ')\n",
    "    return text\n",
    "\n",
    "def removeShortWords(text):\n",
    "    return ' '.join([word for word in text.split() if len(word) > 3])\n",
    "\n",
    "def removeLongWords(text):\n",
    "    return ' '.join([word for word in text.split() if len(word) < 6])"
   ]
  },
  {
   "cell_type": "code",
   "execution_count": 19,
   "metadata": {},
   "outputs": [
    {
     "data": {
      "text/plain": [
       "5"
      ]
     },
     "execution_count": 19,
     "metadata": {},
     "output_type": "execute_result"
    }
   ],
   "source": [
    "# Lambda Function \n",
    "\n",
    "2 + 3"
   ]
  },
  {
   "cell_type": "code",
   "execution_count": 21,
   "metadata": {},
   "outputs": [
    {
     "data": {
      "text/plain": [
       "8"
      ]
     },
     "execution_count": 21,
     "metadata": {},
     "output_type": "execute_result"
    }
   ],
   "source": [
    "(lambda x: x +3)(5)"
   ]
  },
  {
   "cell_type": "code",
   "execution_count": 22,
   "metadata": {},
   "outputs": [
    {
     "data": {
      "text/plain": [
       "[2, 3, 4, 5]"
      ]
     },
     "execution_count": 22,
     "metadata": {},
     "output_type": "execute_result"
    }
   ],
   "source": [
    "myList = [5,4,3,2]\n",
    "sorted(myList)"
   ]
  },
  {
   "cell_type": "code",
   "execution_count": 24,
   "metadata": {},
   "outputs": [
    {
     "data": {
      "text/plain": [
       "[{'num': 1}, {'num': 2}, {'num': 3}]"
      ]
     },
     "execution_count": 24,
     "metadata": {},
     "output_type": "execute_result"
    }
   ],
   "source": [
    "myList = [{'num': 3}, {'num': 2}, {'num': 1}]\n",
    "sorted(myList, key=lambda x: x['num'])"
   ]
  },
  {
   "cell_type": "code",
   "execution_count": 25,
   "metadata": {},
   "outputs": [],
   "source": [
    "# Lambda Fuctions Exercise 1\n",
    "\n",
    "import random\n",
    "import time"
   ]
  },
  {
   "cell_type": "code",
   "execution_count": 27,
   "metadata": {},
   "outputs": [],
   "source": [
    "servicesAreUp = True\n",
    "\n",
    "def getData50():\n",
    "    if servicesAreUp and random.random() < 0.5:\n",
    "        return 'You got the data! That only happens 50% of the time!'\n",
    "\n",
    "def getData25():\n",
    "    if servicesAreUp and random.random() < 0.25:\n",
    "        return 'You got the data! That only happens 25% of the time!'     \n",
    "\n",
    "def getData10():\n",
    "    if servicesAreUp and random.random() < 0.1:\n",
    "        return 'You got the data! That only happens 10% of the time!'  "
   ]
  },
  {
   "cell_type": "code",
   "execution_count": 32,
   "metadata": {},
   "outputs": [],
   "source": [
    "def getWithRetry(dataFunc):\n",
    "    maxRetries = 20\n",
    "    for _ in range(0, maxRetries):\n",
    "        response = dataFunc()\n",
    "        if response:\n",
    "            return response"
   ]
  },
  {
   "cell_type": "code",
   "execution_count": 37,
   "metadata": {},
   "outputs": [],
   "source": [
    "var1 = 1\n",
    "var2 = 2 \n",
    "def someFunc(var1):\n",
    "    print(f'{var1}, {var2}') \n",
    "    someFunc(3)"
   ]
  },
  {
   "cell_type": "code",
   "execution_count": 44,
   "metadata": {},
   "outputs": [
    {
     "data": {
      "text/plain": [
       "17"
      ]
     },
     "execution_count": 44,
     "metadata": {},
     "output_type": "execute_result"
    }
   ],
   "source": [
    "(lambda x: x*3)(5) + 2"
   ]
  },
  {
   "cell_type": "code",
   "execution_count": 46,
   "metadata": {},
   "outputs": [
    {
     "data": {
      "text/plain": [
       "6"
      ]
     },
     "execution_count": 46,
     "metadata": {},
     "output_type": "execute_result"
    }
   ],
   "source": [
    "456 % 10"
   ]
  },
  {
   "cell_type": "code",
   "execution_count": 47,
   "metadata": {},
   "outputs": [
    {
     "ename": "AttributeError",
     "evalue": "'tuple' object has no attribute 'append'",
     "output_type": "error",
     "traceback": [
      "\u001b[1;31m---------------------------------------------------------------------------\u001b[0m",
      "\u001b[1;31mAttributeError\u001b[0m                            Traceback (most recent call last)",
      "Cell \u001b[1;32mIn[47], line 2\u001b[0m\n\u001b[0;32m      1\u001b[0m var \u001b[38;5;241m=\u001b[39m (\u001b[38;5;241m1\u001b[39m,\u001b[38;5;241m2\u001b[39m,\u001b[38;5;241m3\u001b[39m)\n\u001b[1;32m----> 2\u001b[0m \u001b[43mvar\u001b[49m\u001b[38;5;241;43m.\u001b[39;49m\u001b[43mappend\u001b[49m(\u001b[38;5;241m4\u001b[39m)\n",
      "\u001b[1;31mAttributeError\u001b[0m: 'tuple' object has no attribute 'append'"
     ]
    }
   ],
   "source": [
    "var = (1,2,3)\n",
    "var.append(4)"
   ]
  },
  {
   "cell_type": "code",
   "execution_count": 54,
   "metadata": {},
   "outputs": [],
   "source": [
    "# Anatomy of a Class"
   ]
  },
  {
   "cell_type": "code",
   "execution_count": 49,
   "metadata": {},
   "outputs": [
    {
     "name": "stdout",
     "output_type": "stream",
     "text": [
      "Rover\n",
      "4\n"
     ]
    }
   ],
   "source": [
    "# Instance Atrributes\n",
    "\n",
    "class Dog:\n",
    "    def __init__(self, name):\n",
    "        self.name = name\n",
    "        self.legs = 4\n",
    "\n",
    "    def speak (self):\n",
    "        print(self.name + 'says: Bark!')\n",
    "\n",
    "myDog = Dog('Rover')\n",
    "print(myDog.name)\n",
    "print(myDog.legs)\n"
   ]
  },
  {
   "cell_type": "code",
   "execution_count": 52,
   "metadata": {},
   "outputs": [
    {
     "data": {
      "text/plain": [
       "4"
      ]
     },
     "execution_count": 52,
     "metadata": {},
     "output_type": "execute_result"
    }
   ],
   "source": [
    "myDog.legs"
   ]
  },
  {
   "cell_type": "code",
   "execution_count": 53,
   "metadata": {},
   "outputs": [
    {
     "data": {
      "text/plain": [
       "'Rover'"
      ]
     },
     "execution_count": 53,
     "metadata": {},
     "output_type": "execute_result"
    }
   ],
   "source": [
    "myDog.name"
   ]
  },
  {
   "cell_type": "code",
   "execution_count": 55,
   "metadata": {},
   "outputs": [
    {
     "name": "stdout",
     "output_type": "stream",
     "text": [
      "Rover\n",
      "4\n"
     ]
    }
   ],
   "source": [
    "# Static Attributes\n",
    "\n",
    "class Dog:\n",
    "    legs = 4\n",
    "    def __init__(self,name):\n",
    "        self.name = name\n",
    "\n",
    "    def speak(self):\n",
    "        print(self.name + 'says: Bark!') \n",
    "\n",
    "myDog = Dog('Rover')\n",
    "print(myDog.name)\n",
    "print(myDog.legs)\n"
   ]
  },
  {
   "cell_type": "code",
   "execution_count": 57,
   "metadata": {},
   "outputs": [
    {
     "data": {
      "text/plain": [
       "4"
      ]
     },
     "execution_count": 57,
     "metadata": {},
     "output_type": "execute_result"
    }
   ],
   "source": [
    "Dog.legs"
   ]
  },
  {
   "cell_type": "code",
   "execution_count": 59,
   "metadata": {},
   "outputs": [],
   "source": [
    "Dog.legs = 3"
   ]
  },
  {
   "cell_type": "code",
   "execution_count": 61,
   "metadata": {},
   "outputs": [
    {
     "name": "stdout",
     "output_type": "stream",
     "text": [
      "Rover\n",
      "3\n"
     ]
    }
   ],
   "source": [
    "myDog = Dog('Rover')\n",
    "print(myDog.name)\n",
    "print(myDog.legs)"
   ]
  },
  {
   "cell_type": "code",
   "execution_count": 64,
   "metadata": {},
   "outputs": [
    {
     "name": "stdout",
     "output_type": "stream",
     "text": [
      "{'im', 'a', 'another', 'add', 'hi', 'to', 'want', 'ryan', 'sentence', 'is', 'here', 'i'}\n"
     ]
    }
   ],
   "source": [
    "class WordSet:\n",
    "    def __init__(self):\n",
    "        self.words = set()\n",
    "    \n",
    "    def addText(self, text):\n",
    "        text = WordSet.cleanText(text)\n",
    "        for word in text.split():\n",
    "            self.words.add(word)\n",
    "\n",
    "\n",
    "    def cleanText(text):\n",
    "        # chaining Functions\n",
    "        text = text.replace('!', '').replace('.', '').replace(',', '').replace('\\'','')\n",
    "        return text.lower()\n",
    "\n",
    "wordSet = WordSet()\n",
    "\n",
    "wordSet.addText('Hi, I\\'m Ryan! Here is a sentence I want to add!')\n",
    "wordSet.addText('Here is another sentence I want to add.')\n",
    "\n",
    "print(wordSet.words)"
   ]
  },
  {
   "cell_type": "code",
   "execution_count": 73,
   "metadata": {},
   "outputs": [],
   "source": [
    "# Class Inheritance\n",
    "\n",
    "class Dog:\n",
    "    _legs = 4\n",
    "    def __init__(self, name):\n",
    "        self.name = name\n",
    "\n",
    "    def speak(self):\n",
    "        print(self.name + ' says: Bark!')\n",
    "\n",
    "    def getLegs(self):\n",
    "        return self._legs\n",
    "    \n",
    "class Chihuahua(Dog):\n",
    "        def speak(self):\n",
    "            print(f'{self.name} says: Yap yap yap!')\n",
    "\n",
    "        def wagTail(self):\n",
    "         print('Vigorous wagging!')"
   ]
  },
  {
   "cell_type": "code",
   "execution_count": 75,
   "metadata": {},
   "outputs": [
    {
     "name": "stdout",
     "output_type": "stream",
     "text": [
      "Roxy says: Yap yap yap!\n",
      "Vigorous wagging!\n"
     ]
    }
   ],
   "source": [
    "dog = Chihuahua('Roxy')\n",
    "dog.speak()\n",
    "dog.wagTail()"
   ]
  },
  {
   "cell_type": "code",
   "execution_count": 76,
   "metadata": {},
   "outputs": [
    {
     "name": "stdout",
     "output_type": "stream",
     "text": [
      "Rover says: Bark!\n"
     ]
    }
   ],
   "source": [
    "myDog = Dog('Rover')\n",
    "myDog.speak()"
   ]
  },
  {
   "cell_type": "code",
   "execution_count": 78,
   "metadata": {},
   "outputs": [],
   "source": [
    "# Extending built-in classes\n",
    "\n",
    "myList = list()"
   ]
  },
  {
   "cell_type": "code",
   "execution_count": 80,
   "metadata": {},
   "outputs": [
    {
     "name": "stdout",
     "output_type": "stream",
     "text": [
      "[1, 2]\n"
     ]
    }
   ],
   "source": [
    "class UniqueList(list):\n",
    "    def append(self, item):\n",
    "        if item in self:\n",
    "            return\n",
    "        super().append(item)\n",
    "\n",
    "UniqueList = UniqueList()\n",
    "UniqueList.append(1)\n",
    "UniqueList.append(1)\n",
    "UniqueList.append(2)\n",
    "\n",
    "print(UniqueList)"
   ]
  },
  {
   "cell_type": "code",
   "execution_count": 82,
   "metadata": {},
   "outputs": [
    {
     "name": "stdout",
     "output_type": "stream",
     "text": [
      "Unique List!\n"
     ]
    }
   ],
   "source": [
    "class UniqueList(list):\n",
    "\n",
    "    def __init__(self):\n",
    "        super().__init__()\n",
    "        self.someProperty = 'Unique List!'\n",
    "\n",
    "    def append(self, item):\n",
    "        if item in self:\n",
    "            return\n",
    "        super().append(item)\n",
    "\n",
    "uniqueList = UniqueList()\n",
    "uniqueList.append(1)\n",
    "uniqueList.append(1)\n",
    "uniqueList.append(2)\n",
    "\n",
    "print(uniqueList.someProperty)"
   ]
  },
  {
   "cell_type": "code",
   "execution_count": 84,
   "metadata": {},
   "outputs": [],
   "source": [
    "# Exercise: Extending the Messenger\n",
    "\n",
    "from datetime import datetime\n",
    "\n",
    "def getCurrentTime():\n",
    "    return datetime.now().strftime(\"%m-%d-%Y %H:%M:%S\")\n",
    "\n",
    "class Messenger:\n",
    "    def __init__(self, listeners=[]):\n",
    "        self.listeners = listeners\n",
    "\n",
    "    def send(self, message):\n",
    "        for listener in self.listeners:\n",
    "            listener.receive(message)\n",
    "\n",
    "    def receive(self, message):\n",
    "        # Must be implemented by extending classes\n",
    "        pass\n",
    "\n",
    "class SaveMessages(Messenger):\n",
    "   def __init__(self, listeners=[]):\n",
    "       super().__init__(listeners)\n",
    "       self.messages = []"
   ]
  }
 ],
 "metadata": {
  "kernelspec": {
   "display_name": "Python 3",
   "language": "python",
   "name": "python3"
  },
  "language_info": {
   "codemirror_mode": {
    "name": "ipython",
    "version": 3
   },
   "file_extension": ".py",
   "mimetype": "text/x-python",
   "name": "python",
   "nbconvert_exporter": "python",
   "pygments_lexer": "ipython3",
   "version": "3.12.2"
  }
 },
 "nbformat": 4,
 "nbformat_minor": 2
}
