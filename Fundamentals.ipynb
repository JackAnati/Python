{
 "cells": [
  {
   "cell_type": "code",
   "execution_count": 1,
   "metadata": {},
   "outputs": [],
   "source": [
    "import math"
   ]
  },
  {
   "cell_type": "code",
   "execution_count": 67,
   "metadata": {},
   "outputs": [
    {
     "data": {
      "text/plain": [
       "5"
      ]
     },
     "execution_count": 67,
     "metadata": {},
     "output_type": "execute_result"
    }
   ],
   "source": [
    "def performOperation(num1, num2, operation):\n",
    "    if operation == 'sum':\n",
    "        return num1 + num2\n",
    "    if operation == 'multiply':\n",
    "        return num1 * num2\n",
    "    \n",
    "performOperation(2,3, 'sum')"
   ]
  },
  {
   "cell_type": "code",
   "execution_count": 68,
   "metadata": {},
   "outputs": [
    {
     "data": {
      "text/plain": [
       "6"
      ]
     },
     "execution_count": 68,
     "metadata": {},
     "output_type": "execute_result"
    }
   ],
   "source": [
    "performOperation(2,3, 'multiply')"
   ]
  },
  {
   "cell_type": "code",
   "execution_count": 69,
   "metadata": {},
   "outputs": [
    {
     "name": "stdout",
     "output_type": "stream",
     "text": [
      "A new message!\n"
     ]
    },
    {
     "data": {
      "text/plain": [
       "6"
      ]
     },
     "execution_count": 69,
     "metadata": {},
     "output_type": "execute_result"
    }
   ],
   "source": [
    "def performOperation(num1, num2, operation='sum', message='Default message'):\n",
    "    print(message)\n",
    "    if operation == \"sum\":\n",
    "        return num1 + num2\n",
    "    if operation == 'multiply':\n",
    "        return num1 * num2\n",
    "    \n",
    "performOperation(2,3, message='A new message!', operation='multiply')"
   ]
  },
  {
   "cell_type": "code",
   "execution_count": 70,
   "metadata": {},
   "outputs": [
    {
     "name": "stdout",
     "output_type": "stream",
     "text": [
      "(1, 2, 3)\n"
     ]
    }
   ],
   "source": [
    "def performOperation(*args):\n",
    "    print(args)\n",
    "performOperation(1,2,3)"
   ]
  },
  {
   "cell_type": "code",
   "execution_count": 71,
   "metadata": {},
   "outputs": [
    {
     "name": "stdout",
     "output_type": "stream",
     "text": [
      "(1, 2, 3)\n",
      "{'operation': 'sum'}\n"
     ]
    }
   ],
   "source": [
    "def performOperation(*args, **kwargs):\n",
    "    print(args)\n",
    "    print(kwargs)\n",
    "performOperation(1,2,3, operation='sum')"
   ]
  },
  {
   "cell_type": "code",
   "execution_count": 72,
   "metadata": {},
   "outputs": [
    {
     "data": {
      "text/plain": [
       "27"
      ]
     },
     "execution_count": 72,
     "metadata": {},
     "output_type": "execute_result"
    }
   ],
   "source": [
    "def performOperation(*args, operation='sum'):\n",
    "    if operation == 'sum':\n",
    "        return sum(args)\n",
    "    if operation == 'multiply':\n",
    "        return math.prod(args)\n",
    "    \n",
    "performOperation(1,2,3,6,7,8, operation='sum')"
   ]
  },
  {
   "cell_type": "code",
   "execution_count": 73,
   "metadata": {},
   "outputs": [
    {
     "name": "stdout",
     "output_type": "stream",
     "text": [
      "(1, 2)\n",
      "{'operation': 'sum'}\n"
     ]
    }
   ],
   "source": [
    "def performOperation(*args, **kwargs):\n",
    "    print(args)\n",
    "    print(kwargs)\n",
    "\n",
    "performOperation(1,2, operation='sum')"
   ]
  },
  {
   "cell_type": "code",
   "execution_count": 74,
   "metadata": {},
   "outputs": [
    {
     "name": "stdout",
     "output_type": "stream",
     "text": [
      "{'num1': 1, 'num2': 2, 'operation': 'multiply'}\n"
     ]
    }
   ],
   "source": [
    "#Locals\n",
    "\n",
    "def performOperation(num1, num2, operation='sum'):\n",
    "    print(locals())\n",
    "\n",
    "performOperation(1,2, operation='multiply')\n"
   ]
  },
  {
   "cell_type": "code",
   "execution_count": 75,
   "metadata": {},
   "outputs": [
    {
     "data": {
      "text/plain": [
       "{'__name__': '__main__',\n",
       " '__doc__': 'Automatically created module for IPython interactive environment',\n",
       " '__package__': None,\n",
       " '__loader__': None,\n",
       " '__spec__': None,\n",
       " '__builtin__': <module 'builtins' (built-in)>,\n",
       " '__builtins__': <module 'builtins' (built-in)>,\n",
       " '_ih': ['',\n",
       "  '# Exercise: Message Exceptions\\n\\nfrom datetime import datetime\\n\\ndef getCurrentTime():\\n    return datetime.now().strftime(\"%m-%d-%Y %H:%M:%S\")\\n\\nclass Messenger():\\n    def __init__(self, listeners=[]):\\n        self.listeners = listeners\\n\\n    def send(self, message):\\n        for listener in self.listeners:\\n            listener.receive(message)\\n\\n    def receive(self, message):\\n        # Must be implemented by extending classes\\n        pass\\n\\nclass TooManyMessagesException(Exception):\\n    def __init__(self, message):\\n        super().__init__(f\\'Message \"{message}\" could not be added. Please clear existing message\\')\\n\\nclass SaveMessages(Messenger)',\n",
       "  '# Exercise: Message Exceptions\\n\\nfrom datetime import datetime\\n\\ndef getCurrentTime():\\n    return datetime.now().strftime(\"%m-%d-%Y %H:%M:%S\")\\n\\nclass Messenger():\\n    def __init__(self, listeners=[]):\\n        self.listeners = listeners\\n\\n    def send(self, message):\\n        for listener in self.listeners:\\n            listener.receive(message)\\n\\n    def receive(self, message):\\n        # Must be implemented by extending classes\\n        pass\\n\\nclass TooManyMessagesException(Exception):\\n    def __init__(self, message):\\n        super().__init__(f\\'Message \"{message}\" could not be added. Please clear existing message\\')\\n\\nclass SaveMessages(Messenger):',\n",
       "  '# Exercise: Message Exceptions\\n\\nfrom datetime import datetime\\n\\ndef getCurrentTime():\\n    return datetime.now().strftime(\"%m-%d-%Y %H:%M:%S\")\\n\\nclass Messenger():\\n    def __init__(self, listeners=[]):\\n        self.listeners = listeners\\n\\n    def send(self, message):\\n        for listener in self.listeners:\\n            listener.receive(message)\\n\\n    def receive(self, message):\\n        # Must be implemented by extending classes\\n        pass\\n\\nclass TooManyMessagesException(Exception):\\n    def __init__(self, message):\\n        super().__init__(f\\'Message \"{message}\" could not be added. Please clear existing message\\')\\n\\nclass SaveMessages(Messenger):',\n",
       "  '# Knowledge Check\\n\\nx = 0\\nwhile(x<5):\\n    print(x)\\n    x=x-1',\n",
       "  '# Knowledge Check\\n\\nx = 0\\nwhile(x<5):\\n    print(x)\\n    x=x-1',\n",
       "  'import math',\n",
       "  \"def performOperation(num1, num2, operation):\\n    if operation == 'sum':\\n        return num1 + num2\\n    if operation == 'multiply':\\n        return num1 * num2\\n    \\nperformOperation(2,3, 'sum')\",\n",
       "  \"performOperation(2,3, 'multiply')\",\n",
       "  'def performOperation(num1, num2, operation=\\'sum\\', message=\\'Default message\\'):\\n    print(message)\\n    if operation == \"sum\":\\n        return num1 + num2\\n    if operation == \\'multiply\\':\\n        return num1 * num2\\n    \\nperformOperation(2,3, message=\\'A new message!\\', operation=\\'multiply\\')',\n",
       "  'def performOperation(*args):\\n    print(args)\\nperformOperation(1,2,3)',\n",
       "  \"def performOperation(*args, **kwargs):\\n    print(args)\\n    print(kwargs)\\nperformOperation(1,2,3, operation='sum')\",\n",
       "  \"def performOperation(*args, operation='sum'):\\n    if operation == 'sum':\\n        return sum(args)\\n    if operation == 'multiply':\\n        return math.prod(args)\\n    \\nperformOperation(1,2,3,6,7,8, operation='sum')\",\n",
       "  \"def performOperation(*args, **kwargs):\\n    print(args)\\n    print(kwargs)\\n\\nperformOperation(1,2, operation='sum')\",\n",
       "  \"#Locals\\n\\ndef performOperation(num1, num2, operation='sum'):\\n    print(locals())\\n\\nperformOperation(1,2, operation='multiply')\",\n",
       "  'globals()',\n",
       "  \"message = 'Some golbal data'\\n\\ndef function1(varA, varB):\\n    print(message)\\n    print(locals())\\n\\ndef function2(varC, varD):\\n    print(message)\\n    print(locals())\\n\\nfunction1(1,2)\\nfunction2(3,4)\",\n",
       "  \"message = 'Some global data'\\nvarA = 2\\ndef function1(varA, varB):\\n    message ='Some local data'\\n    print(varA)\\n    print(message)\\n    print(locals())\\n\\ndef function2(varC, varD):\\n    print(varA)\\n    print(message)\\n    print(locals())\\n\\nfunction1(1,2)\\nfunction2(3,4)\",\n",
       "  'x=5',\n",
       "  'def x():\\n    return 5.',\n",
       "  '# Variables as Functions\\n\\nx=5',\n",
       "  'def x():\\n    return 5 ',\n",
       "  'print(x.__code__.co_varnames)\\nprint(x.__code__.co_code)',\n",
       "  \"text = '''\\nBeautiful is better than ugly.\\nExplicity is better than implicit.\\nSimple is better yhan complex.\\nComplex is bettr than complicated.\\nFlat is better than nested.\\nSparse is better than dense.\\nReadability counts.\\n\\n'''\",\n",
       "  \"def lowercase(text):\\n    return text.lower()\\n\\ndef removePunctuation(text):\\n    punctuations = ['.', '-', ',', '*']\\n    for punctuation in punctuations:\\n        text = text.replace(punctuation, '')\\n    return text\\n\\ndef removeNewLines(text):\\n    text = text.replace('\\\\n', ' ')\\n    return text\\n\\ndef removeShortWords(text):\\n    return ' '.join([word for word in text.split() if len(word) > 3])\\n\\ndef removeLongWords(text):\\n    return ' '.join([word for word in text.split() if len(word) < 6])\",\n",
       "  '# Lambda Function \\n\\n2 + 3',\n",
       "  '(lambda x: x +3)(5)',\n",
       "  'myList = [5,4,3,2]\\nsorted(myList)',\n",
       "  \"myList = [{'num': 3}, {'num': 2}, {'num': 1}]\\nsorted(myList, key=lambda x: x['num'])\",\n",
       "  '# Lambda Fuctions Exercise 1\\n\\nimport random\\nimport time',\n",
       "  \"servicesAreUp = True\\n\\ndef getData50():\\n    if servicesAreUp and random.random() < 0.5:\\n        return 'You got the data! That only happens 50% of the time!'\\n\\ndef getData25():\\n    if servicesAreUp and random.random() < 0.25:\\n        return 'You got the data! That only happens 25% of the time!'     \\n\\ndef getData10():\\n    if servicesAreUp and random.random() < 0.1:\\n        return 'You got the data! That only happens 10% of the time!'  \",\n",
       "  'def getWithRetry(dataFunc):\\n    maxRetries = 20\\n    for _ in range(0, maxRetries):\\n        response = dataFunc()\\n        if response:\\n            return response',\n",
       "  \"var1 = 1\\nvar2 = 2 \\ndef someFunc(var1):\\n    print(f'{var1}, {var2}') \\n    someFunc(3)\",\n",
       "  '(lambda x: x*3)(5) + 2',\n",
       "  '456 % 10',\n",
       "  'var = (1,2,3)\\nvar.append(4)',\n",
       "  'import math',\n",
       "  \"def performOperation(num1, num2, operation):\\n    if operation == 'sum':\\n        return num1 + num2\\n    if operation == 'multiply':\\n        return num1 * num2\\n    \\nperformOperation(2,3, 'sum')\",\n",
       "  \"performOperation(2,3, 'multiply')\",\n",
       "  'def performOperation(num1, num2, operation=\\'sum\\', message=\\'Default message\\'):\\n    print(message)\\n    if operation == \"sum\":\\n        return num1 + num2\\n    if operation == \\'multiply\\':\\n        return num1 * num2\\n    \\nperformOperation(2,3, message=\\'A new message!\\', operation=\\'multiply\\')',\n",
       "  'def performOperation(*args):\\n    print(args)\\nperformOperation(1,2,3)',\n",
       "  \"def performOperation(*args, **kwargs):\\n    print(args)\\n    print(kwargs)\\nperformOperation(1,2,3, operation='sum')\",\n",
       "  \"def performOperation(*args, operation='sum'):\\n    if operation == 'sum':\\n        return sum(args)\\n    if operation == 'multiply':\\n        return math.prod(args)\\n    \\nperformOperation(1,2,3,6,7,8, operation='sum')\",\n",
       "  \"def performOperation(*args, **kwargs):\\n    print(args)\\n    print(kwargs)\\n\\nperformOperation(1,2, operation='sum')\",\n",
       "  \"#Locals\\n\\ndef performOperation(num1, num2, operation='sum'):\\n    print(locals())\\n\\nperformOperation(1,2, operation='multiply')\",\n",
       "  'globals()',\n",
       "  \"message = 'Some golbal data'\\n\\ndef function1(varA, varB):\\n    print(message)\\n    print(locals())\\n\\ndef function2(varC, varD):\\n    print(message)\\n    print(locals())\\n\\nfunction1(1,2)\\nfunction2(3,4)\",\n",
       "  \"message = 'Some global data'\\nvarA = 2\\ndef function1(varA, varB):\\n    message ='Some local data'\\n    print(varA)\\n    print(message)\\n    print(locals())\\n\\ndef function2(varC, varD):\\n    print(varA)\\n    print(message)\\n    print(locals())\\n\\nfunction1(1,2)\\nfunction2(3,4)\",\n",
       "  'x=5',\n",
       "  'def x():\\n    return 5.',\n",
       "  '# Variables as Functions\\n\\nx=5',\n",
       "  'def x():\\n    return 5 ',\n",
       "  'print(x.__code__.co_varnames)\\nprint(x.__code__.co_code)',\n",
       "  \"text = '''\\nBeautiful is better than ugly.\\nExplicity is better than implicit.\\nSimple is better yhan complex.\\nComplex is bettr than complicated.\\nFlat is better than nested.\\nSparse is better than dense.\\nReadability counts.\\n\\n'''\",\n",
       "  \"def lowercase(text):\\n    return text.lower()\\n\\ndef removePunctuation(text):\\n    punctuations = ['.', '-', ',', '*']\\n    for punctuation in punctuations:\\n        text = text.replace(punctuation, '')\\n    return text\\n\\ndef removeNewLines(text):\\n    text = text.replace('\\\\n', ' ')\\n    return text\\n\\ndef removeShortWords(text):\\n    return ' '.join([word for word in text.split() if len(word) > 3])\\n\\ndef removeLongWords(text):\\n    return ' '.join([word for word in text.split() if len(word) < 6])\",\n",
       "  '# Lambda Function \\n\\n2 + 3',\n",
       "  '(lambda x: x +3)(5)',\n",
       "  'myList = [5,4,3,2]\\nsorted(myList)',\n",
       "  \"myList = [{'num': 3}, {'num': 2}, {'num': 1}]\\nsorted(myList, key=lambda x: x['num'])\",\n",
       "  '# Lambda Fuctions Exercise 1\\n\\nimport random\\nimport time',\n",
       "  \"servicesAreUp = True\\n\\ndef getData50():\\n    if servicesAreUp and random.random() < 0.5:\\n        return 'You got the data! That only happens 50% of the time!'\\n\\ndef getData25():\\n    if servicesAreUp and random.random() < 0.25:\\n        return 'You got the data! That only happens 25% of the time!'     \\n\\ndef getData10():\\n    if servicesAreUp and random.random() < 0.1:\\n        return 'You got the data! That only happens 10% of the time!'  \",\n",
       "  'def getWithRetry(dataFunc):\\n    maxRetries = 20\\n    for _ in range(0, maxRetries):\\n        response = dataFunc()\\n        if response:\\n            return response',\n",
       "  \"var1 = 1\\nvar2 = 2 \\ndef someFunc(var1):\\n    print(f'{var1}, {var2}') \\n    someFunc(3)\",\n",
       "  '(lambda x: x*3)(5) + 2',\n",
       "  '456 % 10',\n",
       "  'var = (1,2,3)\\nvar.append(4)',\n",
       "  'import math',\n",
       "  \"def performOperation(num1, num2, operation):\\n    if operation == 'sum':\\n        return num1 + num2\\n    if operation == 'multiply':\\n        return num1 * num2\\n    \\nperformOperation(2,3, 'sum')\",\n",
       "  \"performOperation(2,3, 'multiply')\",\n",
       "  'def performOperation(num1, num2, operation=\\'sum\\', message=\\'Default message\\'):\\n    print(message)\\n    if operation == \"sum\":\\n        return num1 + num2\\n    if operation == \\'multiply\\':\\n        return num1 * num2\\n    \\nperformOperation(2,3, message=\\'A new message!\\', operation=\\'multiply\\')',\n",
       "  'def performOperation(*args):\\n    print(args)\\nperformOperation(1,2,3)',\n",
       "  \"def performOperation(*args, **kwargs):\\n    print(args)\\n    print(kwargs)\\nperformOperation(1,2,3, operation='sum')\",\n",
       "  \"def performOperation(*args, operation='sum'):\\n    if operation == 'sum':\\n        return sum(args)\\n    if operation == 'multiply':\\n        return math.prod(args)\\n    \\nperformOperation(1,2,3,6,7,8, operation='sum')\",\n",
       "  \"def performOperation(*args, **kwargs):\\n    print(args)\\n    print(kwargs)\\n\\nperformOperation(1,2, operation='sum')\",\n",
       "  \"#Locals\\n\\ndef performOperation(num1, num2, operation='sum'):\\n    print(locals())\\n\\nperformOperation(1,2, operation='multiply')\",\n",
       "  'globals()'],\n",
       " '_oh': {7: 5,\n",
       "  8: 6,\n",
       "  9: 6,\n",
       "  12: 27,\n",
       "  15: {...},\n",
       "  25: 5,\n",
       "  26: 8,\n",
       "  27: [2, 3, 4, 5],\n",
       "  28: [{'num': 1}, {'num': 2}, {'num': 3}],\n",
       "  33: 17,\n",
       "  34: 6,\n",
       "  37: 5,\n",
       "  38: 6,\n",
       "  39: 6,\n",
       "  42: 27,\n",
       "  45: {...},\n",
       "  55: 5,\n",
       "  56: 8,\n",
       "  57: [2, 3, 4, 5],\n",
       "  58: [{'num': 1}, {'num': 2}, {'num': 3}],\n",
       "  63: 17,\n",
       "  64: 6,\n",
       "  67: 5,\n",
       "  68: 6,\n",
       "  69: 6,\n",
       "  72: 27},\n",
       " '_dh': [WindowsPath('c:/Users/Anati.Jack/OneDrive - Cape IT Initiative/Documents/Python'),\n",
       "  WindowsPath('c:/Users/Anati.Jack/OneDrive - Cape IT Initiative/Documents/Python')],\n",
       " 'In': ['',\n",
       "  '# Exercise: Message Exceptions\\n\\nfrom datetime import datetime\\n\\ndef getCurrentTime():\\n    return datetime.now().strftime(\"%m-%d-%Y %H:%M:%S\")\\n\\nclass Messenger():\\n    def __init__(self, listeners=[]):\\n        self.listeners = listeners\\n\\n    def send(self, message):\\n        for listener in self.listeners:\\n            listener.receive(message)\\n\\n    def receive(self, message):\\n        # Must be implemented by extending classes\\n        pass\\n\\nclass TooManyMessagesException(Exception):\\n    def __init__(self, message):\\n        super().__init__(f\\'Message \"{message}\" could not be added. Please clear existing message\\')\\n\\nclass SaveMessages(Messenger)',\n",
       "  '# Exercise: Message Exceptions\\n\\nfrom datetime import datetime\\n\\ndef getCurrentTime():\\n    return datetime.now().strftime(\"%m-%d-%Y %H:%M:%S\")\\n\\nclass Messenger():\\n    def __init__(self, listeners=[]):\\n        self.listeners = listeners\\n\\n    def send(self, message):\\n        for listener in self.listeners:\\n            listener.receive(message)\\n\\n    def receive(self, message):\\n        # Must be implemented by extending classes\\n        pass\\n\\nclass TooManyMessagesException(Exception):\\n    def __init__(self, message):\\n        super().__init__(f\\'Message \"{message}\" could not be added. Please clear existing message\\')\\n\\nclass SaveMessages(Messenger):',\n",
       "  '# Exercise: Message Exceptions\\n\\nfrom datetime import datetime\\n\\ndef getCurrentTime():\\n    return datetime.now().strftime(\"%m-%d-%Y %H:%M:%S\")\\n\\nclass Messenger():\\n    def __init__(self, listeners=[]):\\n        self.listeners = listeners\\n\\n    def send(self, message):\\n        for listener in self.listeners:\\n            listener.receive(message)\\n\\n    def receive(self, message):\\n        # Must be implemented by extending classes\\n        pass\\n\\nclass TooManyMessagesException(Exception):\\n    def __init__(self, message):\\n        super().__init__(f\\'Message \"{message}\" could not be added. Please clear existing message\\')\\n\\nclass SaveMessages(Messenger):',\n",
       "  '# Knowledge Check\\n\\nx = 0\\nwhile(x<5):\\n    print(x)\\n    x=x-1',\n",
       "  '# Knowledge Check\\n\\nx = 0\\nwhile(x<5):\\n    print(x)\\n    x=x-1',\n",
       "  'import math',\n",
       "  \"def performOperation(num1, num2, operation):\\n    if operation == 'sum':\\n        return num1 + num2\\n    if operation == 'multiply':\\n        return num1 * num2\\n    \\nperformOperation(2,3, 'sum')\",\n",
       "  \"performOperation(2,3, 'multiply')\",\n",
       "  'def performOperation(num1, num2, operation=\\'sum\\', message=\\'Default message\\'):\\n    print(message)\\n    if operation == \"sum\":\\n        return num1 + num2\\n    if operation == \\'multiply\\':\\n        return num1 * num2\\n    \\nperformOperation(2,3, message=\\'A new message!\\', operation=\\'multiply\\')',\n",
       "  'def performOperation(*args):\\n    print(args)\\nperformOperation(1,2,3)',\n",
       "  \"def performOperation(*args, **kwargs):\\n    print(args)\\n    print(kwargs)\\nperformOperation(1,2,3, operation='sum')\",\n",
       "  \"def performOperation(*args, operation='sum'):\\n    if operation == 'sum':\\n        return sum(args)\\n    if operation == 'multiply':\\n        return math.prod(args)\\n    \\nperformOperation(1,2,3,6,7,8, operation='sum')\",\n",
       "  \"def performOperation(*args, **kwargs):\\n    print(args)\\n    print(kwargs)\\n\\nperformOperation(1,2, operation='sum')\",\n",
       "  \"#Locals\\n\\ndef performOperation(num1, num2, operation='sum'):\\n    print(locals())\\n\\nperformOperation(1,2, operation='multiply')\",\n",
       "  'globals()',\n",
       "  \"message = 'Some golbal data'\\n\\ndef function1(varA, varB):\\n    print(message)\\n    print(locals())\\n\\ndef function2(varC, varD):\\n    print(message)\\n    print(locals())\\n\\nfunction1(1,2)\\nfunction2(3,4)\",\n",
       "  \"message = 'Some global data'\\nvarA = 2\\ndef function1(varA, varB):\\n    message ='Some local data'\\n    print(varA)\\n    print(message)\\n    print(locals())\\n\\ndef function2(varC, varD):\\n    print(varA)\\n    print(message)\\n    print(locals())\\n\\nfunction1(1,2)\\nfunction2(3,4)\",\n",
       "  'x=5',\n",
       "  'def x():\\n    return 5.',\n",
       "  '# Variables as Functions\\n\\nx=5',\n",
       "  'def x():\\n    return 5 ',\n",
       "  'print(x.__code__.co_varnames)\\nprint(x.__code__.co_code)',\n",
       "  \"text = '''\\nBeautiful is better than ugly.\\nExplicity is better than implicit.\\nSimple is better yhan complex.\\nComplex is bettr than complicated.\\nFlat is better than nested.\\nSparse is better than dense.\\nReadability counts.\\n\\n'''\",\n",
       "  \"def lowercase(text):\\n    return text.lower()\\n\\ndef removePunctuation(text):\\n    punctuations = ['.', '-', ',', '*']\\n    for punctuation in punctuations:\\n        text = text.replace(punctuation, '')\\n    return text\\n\\ndef removeNewLines(text):\\n    text = text.replace('\\\\n', ' ')\\n    return text\\n\\ndef removeShortWords(text):\\n    return ' '.join([word for word in text.split() if len(word) > 3])\\n\\ndef removeLongWords(text):\\n    return ' '.join([word for word in text.split() if len(word) < 6])\",\n",
       "  '# Lambda Function \\n\\n2 + 3',\n",
       "  '(lambda x: x +3)(5)',\n",
       "  'myList = [5,4,3,2]\\nsorted(myList)',\n",
       "  \"myList = [{'num': 3}, {'num': 2}, {'num': 1}]\\nsorted(myList, key=lambda x: x['num'])\",\n",
       "  '# Lambda Fuctions Exercise 1\\n\\nimport random\\nimport time',\n",
       "  \"servicesAreUp = True\\n\\ndef getData50():\\n    if servicesAreUp and random.random() < 0.5:\\n        return 'You got the data! That only happens 50% of the time!'\\n\\ndef getData25():\\n    if servicesAreUp and random.random() < 0.25:\\n        return 'You got the data! That only happens 25% of the time!'     \\n\\ndef getData10():\\n    if servicesAreUp and random.random() < 0.1:\\n        return 'You got the data! That only happens 10% of the time!'  \",\n",
       "  'def getWithRetry(dataFunc):\\n    maxRetries = 20\\n    for _ in range(0, maxRetries):\\n        response = dataFunc()\\n        if response:\\n            return response',\n",
       "  \"var1 = 1\\nvar2 = 2 \\ndef someFunc(var1):\\n    print(f'{var1}, {var2}') \\n    someFunc(3)\",\n",
       "  '(lambda x: x*3)(5) + 2',\n",
       "  '456 % 10',\n",
       "  'var = (1,2,3)\\nvar.append(4)',\n",
       "  'import math',\n",
       "  \"def performOperation(num1, num2, operation):\\n    if operation == 'sum':\\n        return num1 + num2\\n    if operation == 'multiply':\\n        return num1 * num2\\n    \\nperformOperation(2,3, 'sum')\",\n",
       "  \"performOperation(2,3, 'multiply')\",\n",
       "  'def performOperation(num1, num2, operation=\\'sum\\', message=\\'Default message\\'):\\n    print(message)\\n    if operation == \"sum\":\\n        return num1 + num2\\n    if operation == \\'multiply\\':\\n        return num1 * num2\\n    \\nperformOperation(2,3, message=\\'A new message!\\', operation=\\'multiply\\')',\n",
       "  'def performOperation(*args):\\n    print(args)\\nperformOperation(1,2,3)',\n",
       "  \"def performOperation(*args, **kwargs):\\n    print(args)\\n    print(kwargs)\\nperformOperation(1,2,3, operation='sum')\",\n",
       "  \"def performOperation(*args, operation='sum'):\\n    if operation == 'sum':\\n        return sum(args)\\n    if operation == 'multiply':\\n        return math.prod(args)\\n    \\nperformOperation(1,2,3,6,7,8, operation='sum')\",\n",
       "  \"def performOperation(*args, **kwargs):\\n    print(args)\\n    print(kwargs)\\n\\nperformOperation(1,2, operation='sum')\",\n",
       "  \"#Locals\\n\\ndef performOperation(num1, num2, operation='sum'):\\n    print(locals())\\n\\nperformOperation(1,2, operation='multiply')\",\n",
       "  'globals()',\n",
       "  \"message = 'Some golbal data'\\n\\ndef function1(varA, varB):\\n    print(message)\\n    print(locals())\\n\\ndef function2(varC, varD):\\n    print(message)\\n    print(locals())\\n\\nfunction1(1,2)\\nfunction2(3,4)\",\n",
       "  \"message = 'Some global data'\\nvarA = 2\\ndef function1(varA, varB):\\n    message ='Some local data'\\n    print(varA)\\n    print(message)\\n    print(locals())\\n\\ndef function2(varC, varD):\\n    print(varA)\\n    print(message)\\n    print(locals())\\n\\nfunction1(1,2)\\nfunction2(3,4)\",\n",
       "  'x=5',\n",
       "  'def x():\\n    return 5.',\n",
       "  '# Variables as Functions\\n\\nx=5',\n",
       "  'def x():\\n    return 5 ',\n",
       "  'print(x.__code__.co_varnames)\\nprint(x.__code__.co_code)',\n",
       "  \"text = '''\\nBeautiful is better than ugly.\\nExplicity is better than implicit.\\nSimple is better yhan complex.\\nComplex is bettr than complicated.\\nFlat is better than nested.\\nSparse is better than dense.\\nReadability counts.\\n\\n'''\",\n",
       "  \"def lowercase(text):\\n    return text.lower()\\n\\ndef removePunctuation(text):\\n    punctuations = ['.', '-', ',', '*']\\n    for punctuation in punctuations:\\n        text = text.replace(punctuation, '')\\n    return text\\n\\ndef removeNewLines(text):\\n    text = text.replace('\\\\n', ' ')\\n    return text\\n\\ndef removeShortWords(text):\\n    return ' '.join([word for word in text.split() if len(word) > 3])\\n\\ndef removeLongWords(text):\\n    return ' '.join([word for word in text.split() if len(word) < 6])\",\n",
       "  '# Lambda Function \\n\\n2 + 3',\n",
       "  '(lambda x: x +3)(5)',\n",
       "  'myList = [5,4,3,2]\\nsorted(myList)',\n",
       "  \"myList = [{'num': 3}, {'num': 2}, {'num': 1}]\\nsorted(myList, key=lambda x: x['num'])\",\n",
       "  '# Lambda Fuctions Exercise 1\\n\\nimport random\\nimport time',\n",
       "  \"servicesAreUp = True\\n\\ndef getData50():\\n    if servicesAreUp and random.random() < 0.5:\\n        return 'You got the data! That only happens 50% of the time!'\\n\\ndef getData25():\\n    if servicesAreUp and random.random() < 0.25:\\n        return 'You got the data! That only happens 25% of the time!'     \\n\\ndef getData10():\\n    if servicesAreUp and random.random() < 0.1:\\n        return 'You got the data! That only happens 10% of the time!'  \",\n",
       "  'def getWithRetry(dataFunc):\\n    maxRetries = 20\\n    for _ in range(0, maxRetries):\\n        response = dataFunc()\\n        if response:\\n            return response',\n",
       "  \"var1 = 1\\nvar2 = 2 \\ndef someFunc(var1):\\n    print(f'{var1}, {var2}') \\n    someFunc(3)\",\n",
       "  '(lambda x: x*3)(5) + 2',\n",
       "  '456 % 10',\n",
       "  'var = (1,2,3)\\nvar.append(4)',\n",
       "  'import math',\n",
       "  \"def performOperation(num1, num2, operation):\\n    if operation == 'sum':\\n        return num1 + num2\\n    if operation == 'multiply':\\n        return num1 * num2\\n    \\nperformOperation(2,3, 'sum')\",\n",
       "  \"performOperation(2,3, 'multiply')\",\n",
       "  'def performOperation(num1, num2, operation=\\'sum\\', message=\\'Default message\\'):\\n    print(message)\\n    if operation == \"sum\":\\n        return num1 + num2\\n    if operation == \\'multiply\\':\\n        return num1 * num2\\n    \\nperformOperation(2,3, message=\\'A new message!\\', operation=\\'multiply\\')',\n",
       "  'def performOperation(*args):\\n    print(args)\\nperformOperation(1,2,3)',\n",
       "  \"def performOperation(*args, **kwargs):\\n    print(args)\\n    print(kwargs)\\nperformOperation(1,2,3, operation='sum')\",\n",
       "  \"def performOperation(*args, operation='sum'):\\n    if operation == 'sum':\\n        return sum(args)\\n    if operation == 'multiply':\\n        return math.prod(args)\\n    \\nperformOperation(1,2,3,6,7,8, operation='sum')\",\n",
       "  \"def performOperation(*args, **kwargs):\\n    print(args)\\n    print(kwargs)\\n\\nperformOperation(1,2, operation='sum')\",\n",
       "  \"#Locals\\n\\ndef performOperation(num1, num2, operation='sum'):\\n    print(locals())\\n\\nperformOperation(1,2, operation='multiply')\",\n",
       "  'globals()'],\n",
       " 'Out': {7: 5,\n",
       "  8: 6,\n",
       "  9: 6,\n",
       "  12: 27,\n",
       "  15: {...},\n",
       "  25: 5,\n",
       "  26: 8,\n",
       "  27: [2, 3, 4, 5],\n",
       "  28: [{'num': 1}, {'num': 2}, {'num': 3}],\n",
       "  33: 17,\n",
       "  34: 6,\n",
       "  37: 5,\n",
       "  38: 6,\n",
       "  39: 6,\n",
       "  42: 27,\n",
       "  45: {...},\n",
       "  55: 5,\n",
       "  56: 8,\n",
       "  57: [2, 3, 4, 5],\n",
       "  58: [{'num': 1}, {'num': 2}, {'num': 3}],\n",
       "  63: 17,\n",
       "  64: 6,\n",
       "  67: 5,\n",
       "  68: 6,\n",
       "  69: 6,\n",
       "  72: 27},\n",
       " 'get_ipython': <bound method InteractiveShell.get_ipython of <ipykernel.zmqshell.ZMQInteractiveShell object at 0x0000020381600B90>>,\n",
       " 'exit': <IPython.core.autocall.ZMQExitAutocall at 0x20381601430>,\n",
       " 'quit': <IPython.core.autocall.ZMQExitAutocall at 0x20381601430>,\n",
       " 'open': <function _io.open(file, mode='r', buffering=-1, encoding=None, errors=None, newline=None, closefd=True, opener=None)>,\n",
       " '_': 27,\n",
       " '__': 6,\n",
       " '___': 6,\n",
       " '__vsc_ipynb_file__': 'c:\\\\Users\\\\Anati.Jack\\\\OneDrive - Cape IT Initiative\\\\Documents\\\\Python\\\\Fundamentals.ipynb',\n",
       " '_i': \"#Locals\\n\\ndef performOperation(num1, num2, operation='sum'):\\n    print(locals())\\n\\nperformOperation(1,2, operation='multiply')\",\n",
       " '_ii': \"def performOperation(*args, **kwargs):\\n    print(args)\\n    print(kwargs)\\n\\nperformOperation(1,2, operation='sum')\",\n",
       " '_iii': \"def performOperation(*args, operation='sum'):\\n    if operation == 'sum':\\n        return sum(args)\\n    if operation == 'multiply':\\n        return math.prod(args)\\n    \\nperformOperation(1,2,3,6,7,8, operation='sum')\",\n",
       " '_i1': '# Exercise: Message Exceptions\\n\\nfrom datetime import datetime\\n\\ndef getCurrentTime():\\n    return datetime.now().strftime(\"%m-%d-%Y %H:%M:%S\")\\n\\nclass Messenger():\\n    def __init__(self, listeners=[]):\\n        self.listeners = listeners\\n\\n    def send(self, message):\\n        for listener in self.listeners:\\n            listener.receive(message)\\n\\n    def receive(self, message):\\n        # Must be implemented by extending classes\\n        pass\\n\\nclass TooManyMessagesException(Exception):\\n    def __init__(self, message):\\n        super().__init__(f\\'Message \"{message}\" could not be added. Please clear existing message\\')\\n\\nclass SaveMessages(Messenger)',\n",
       " '_i2': '# Exercise: Message Exceptions\\n\\nfrom datetime import datetime\\n\\ndef getCurrentTime():\\n    return datetime.now().strftime(\"%m-%d-%Y %H:%M:%S\")\\n\\nclass Messenger():\\n    def __init__(self, listeners=[]):\\n        self.listeners = listeners\\n\\n    def send(self, message):\\n        for listener in self.listeners:\\n            listener.receive(message)\\n\\n    def receive(self, message):\\n        # Must be implemented by extending classes\\n        pass\\n\\nclass TooManyMessagesException(Exception):\\n    def __init__(self, message):\\n        super().__init__(f\\'Message \"{message}\" could not be added. Please clear existing message\\')\\n\\nclass SaveMessages(Messenger):',\n",
       " '_i3': '# Exercise: Message Exceptions\\n\\nfrom datetime import datetime\\n\\ndef getCurrentTime():\\n    return datetime.now().strftime(\"%m-%d-%Y %H:%M:%S\")\\n\\nclass Messenger():\\n    def __init__(self, listeners=[]):\\n        self.listeners = listeners\\n\\n    def send(self, message):\\n        for listener in self.listeners:\\n            listener.receive(message)\\n\\n    def receive(self, message):\\n        # Must be implemented by extending classes\\n        pass\\n\\nclass TooManyMessagesException(Exception):\\n    def __init__(self, message):\\n        super().__init__(f\\'Message \"{message}\" could not be added. Please clear existing message\\')\\n\\nclass SaveMessages(Messenger):',\n",
       " '_i4': '# Knowledge Check\\n\\nx = 0\\nwhile(x<5):\\n    print(x)\\n    x=x-1',\n",
       " 'x': <function __main__.x()>,\n",
       " 'builtins': <module 'builtins' (built-in)>,\n",
       " 'ipykernel': <module 'ipykernel' from 'c:\\\\Users\\\\Anati.Jack\\\\AppData\\\\Local\\\\Programs\\\\Python\\\\Python312\\\\Lib\\\\site-packages\\\\ipykernel\\\\__init__.py'>,\n",
       " 'debugpy': <module 'debugpy' from 'c:\\\\Users\\\\Anati.Jack\\\\AppData\\\\Local\\\\Programs\\\\Python\\\\Python312\\\\Lib\\\\site-packages\\\\debugpy\\\\__init__.py'>,\n",
       " '_i5': '# Knowledge Check\\n\\nx = 0\\nwhile(x<5):\\n    print(x)\\n    x=x-1',\n",
       " 'file': 'C:\\\\Users\\\\Anati.Jack\\\\AppData\\\\Local\\\\Temp\\\\ipykernel_4860\\\\3990065800.py',\n",
       " '_i6': 'import math',\n",
       " 'math': <module 'math' (built-in)>,\n",
       " '_i7': \"def performOperation(num1, num2, operation):\\n    if operation == 'sum':\\n        return num1 + num2\\n    if operation == 'multiply':\\n        return num1 * num2\\n    \\nperformOperation(2,3, 'sum')\",\n",
       " 'performOperation': <function __main__.performOperation(num1, num2, operation='sum')>,\n",
       " '_7': 5,\n",
       " '_i8': \"performOperation(2,3, 'multiply')\",\n",
       " '_8': 6,\n",
       " '_i9': 'def performOperation(num1, num2, operation=\\'sum\\', message=\\'Default message\\'):\\n    print(message)\\n    if operation == \"sum\":\\n        return num1 + num2\\n    if operation == \\'multiply\\':\\n        return num1 * num2\\n    \\nperformOperation(2,3, message=\\'A new message!\\', operation=\\'multiply\\')',\n",
       " '_9': 6,\n",
       " '_i10': 'def performOperation(*args):\\n    print(args)\\nperformOperation(1,2,3)',\n",
       " '_i11': \"def performOperation(*args, **kwargs):\\n    print(args)\\n    print(kwargs)\\nperformOperation(1,2,3, operation='sum')\",\n",
       " '_i12': \"def performOperation(*args, operation='sum'):\\n    if operation == 'sum':\\n        return sum(args)\\n    if operation == 'multiply':\\n        return math.prod(args)\\n    \\nperformOperation(1,2,3,6,7,8, operation='sum')\",\n",
       " '_12': 27,\n",
       " '_i13': \"def performOperation(*args, **kwargs):\\n    print(args)\\n    print(kwargs)\\n\\nperformOperation(1,2, operation='sum')\",\n",
       " '_i14': \"#Locals\\n\\ndef performOperation(num1, num2, operation='sum'):\\n    print(locals())\\n\\nperformOperation(1,2, operation='multiply')\",\n",
       " '_i15': 'globals()',\n",
       " '_15': {...},\n",
       " '_i16': \"message = 'Some golbal data'\\n\\ndef function1(varA, varB):\\n    print(message)\\n    print(locals())\\n\\ndef function2(varC, varD):\\n    print(message)\\n    print(locals())\\n\\nfunction1(1,2)\\nfunction2(3,4)\",\n",
       " 'message': 'Some global data',\n",
       " 'function1': <function __main__.function1(varA, varB)>,\n",
       " 'function2': <function __main__.function2(varC, varD)>,\n",
       " '_i17': \"message = 'Some global data'\\nvarA = 2\\ndef function1(varA, varB):\\n    message ='Some local data'\\n    print(varA)\\n    print(message)\\n    print(locals())\\n\\ndef function2(varC, varD):\\n    print(varA)\\n    print(message)\\n    print(locals())\\n\\nfunction1(1,2)\\nfunction2(3,4)\",\n",
       " 'varA': 2,\n",
       " '_i18': 'x=5',\n",
       " '_i19': 'def x():\\n    return 5.',\n",
       " '_i20': '# Variables as Functions\\n\\nx=5',\n",
       " '_i21': 'def x():\\n    return 5 ',\n",
       " '_i22': 'print(x.__code__.co_varnames)\\nprint(x.__code__.co_code)',\n",
       " '_i23': \"text = '''\\nBeautiful is better than ugly.\\nExplicity is better than implicit.\\nSimple is better yhan complex.\\nComplex is bettr than complicated.\\nFlat is better than nested.\\nSparse is better than dense.\\nReadability counts.\\n\\n'''\",\n",
       " 'text': '\\nBeautiful is better than ugly.\\nExplicity is better than implicit.\\nSimple is better yhan complex.\\nComplex is bettr than complicated.\\nFlat is better than nested.\\nSparse is better than dense.\\nReadability counts.\\n\\n',\n",
       " '_i24': \"def lowercase(text):\\n    return text.lower()\\n\\ndef removePunctuation(text):\\n    punctuations = ['.', '-', ',', '*']\\n    for punctuation in punctuations:\\n        text = text.replace(punctuation, '')\\n    return text\\n\\ndef removeNewLines(text):\\n    text = text.replace('\\\\n', ' ')\\n    return text\\n\\ndef removeShortWords(text):\\n    return ' '.join([word for word in text.split() if len(word) > 3])\\n\\ndef removeLongWords(text):\\n    return ' '.join([word for word in text.split() if len(word) < 6])\",\n",
       " 'lowercase': <function __main__.lowercase(text)>,\n",
       " 'removePunctuation': <function __main__.removePunctuation(text)>,\n",
       " 'removeNewLines': <function __main__.removeNewLines(text)>,\n",
       " 'removeShortWords': <function __main__.removeShortWords(text)>,\n",
       " 'removeLongWords': <function __main__.removeLongWords(text)>,\n",
       " '_i25': '# Lambda Function \\n\\n2 + 3',\n",
       " '_25': 5,\n",
       " '_i26': '(lambda x: x +3)(5)',\n",
       " '_26': 8,\n",
       " '_i27': 'myList = [5,4,3,2]\\nsorted(myList)',\n",
       " 'myList': [{'num': 3}, {'num': 2}, {'num': 1}],\n",
       " '_27': [2, 3, 4, 5],\n",
       " '_i28': \"myList = [{'num': 3}, {'num': 2}, {'num': 1}]\\nsorted(myList, key=lambda x: x['num'])\",\n",
       " '_28': [{'num': 1}, {'num': 2}, {'num': 3}],\n",
       " '_i29': '# Lambda Fuctions Exercise 1\\n\\nimport random\\nimport time',\n",
       " 'random': <module 'random' from 'c:\\\\Users\\\\Anati.Jack\\\\AppData\\\\Local\\\\Programs\\\\Python\\\\Python312\\\\Lib\\\\random.py'>,\n",
       " 'time': <module 'time' (built-in)>,\n",
       " '_i30': \"servicesAreUp = True\\n\\ndef getData50():\\n    if servicesAreUp and random.random() < 0.5:\\n        return 'You got the data! That only happens 50% of the time!'\\n\\ndef getData25():\\n    if servicesAreUp and random.random() < 0.25:\\n        return 'You got the data! That only happens 25% of the time!'     \\n\\ndef getData10():\\n    if servicesAreUp and random.random() < 0.1:\\n        return 'You got the data! That only happens 10% of the time!'  \",\n",
       " 'servicesAreUp': True,\n",
       " 'getData50': <function __main__.getData50()>,\n",
       " 'getData25': <function __main__.getData25()>,\n",
       " 'getData10': <function __main__.getData10()>,\n",
       " '_i31': 'def getWithRetry(dataFunc):\\n    maxRetries = 20\\n    for _ in range(0, maxRetries):\\n        response = dataFunc()\\n        if response:\\n            return response',\n",
       " 'getWithRetry': <function __main__.getWithRetry(dataFunc)>,\n",
       " '_i32': \"var1 = 1\\nvar2 = 2 \\ndef someFunc(var1):\\n    print(f'{var1}, {var2}') \\n    someFunc(3)\",\n",
       " 'var1': 1,\n",
       " 'var2': 2,\n",
       " 'someFunc': <function __main__.someFunc(var1)>,\n",
       " '_i33': '(lambda x: x*3)(5) + 2',\n",
       " '_33': 17,\n",
       " '_i34': '456 % 10',\n",
       " '_34': 6,\n",
       " '_i35': 'var = (1,2,3)\\nvar.append(4)',\n",
       " 'var': (1, 2, 3),\n",
       " '_i36': 'import math',\n",
       " '_i37': \"def performOperation(num1, num2, operation):\\n    if operation == 'sum':\\n        return num1 + num2\\n    if operation == 'multiply':\\n        return num1 * num2\\n    \\nperformOperation(2,3, 'sum')\",\n",
       " '_37': 5,\n",
       " '_i38': \"performOperation(2,3, 'multiply')\",\n",
       " '_38': 6,\n",
       " '_i39': 'def performOperation(num1, num2, operation=\\'sum\\', message=\\'Default message\\'):\\n    print(message)\\n    if operation == \"sum\":\\n        return num1 + num2\\n    if operation == \\'multiply\\':\\n        return num1 * num2\\n    \\nperformOperation(2,3, message=\\'A new message!\\', operation=\\'multiply\\')',\n",
       " '_39': 6,\n",
       " '_i40': 'def performOperation(*args):\\n    print(args)\\nperformOperation(1,2,3)',\n",
       " '_i41': \"def performOperation(*args, **kwargs):\\n    print(args)\\n    print(kwargs)\\nperformOperation(1,2,3, operation='sum')\",\n",
       " '_i42': \"def performOperation(*args, operation='sum'):\\n    if operation == 'sum':\\n        return sum(args)\\n    if operation == 'multiply':\\n        return math.prod(args)\\n    \\nperformOperation(1,2,3,6,7,8, operation='sum')\",\n",
       " '_42': 27,\n",
       " '_i43': \"def performOperation(*args, **kwargs):\\n    print(args)\\n    print(kwargs)\\n\\nperformOperation(1,2, operation='sum')\",\n",
       " '_i44': \"#Locals\\n\\ndef performOperation(num1, num2, operation='sum'):\\n    print(locals())\\n\\nperformOperation(1,2, operation='multiply')\",\n",
       " '_i45': 'globals()',\n",
       " '_45': {...},\n",
       " '_i46': \"message = 'Some golbal data'\\n\\ndef function1(varA, varB):\\n    print(message)\\n    print(locals())\\n\\ndef function2(varC, varD):\\n    print(message)\\n    print(locals())\\n\\nfunction1(1,2)\\nfunction2(3,4)\",\n",
       " '_i47': \"message = 'Some global data'\\nvarA = 2\\ndef function1(varA, varB):\\n    message ='Some local data'\\n    print(varA)\\n    print(message)\\n    print(locals())\\n\\ndef function2(varC, varD):\\n    print(varA)\\n    print(message)\\n    print(locals())\\n\\nfunction1(1,2)\\nfunction2(3,4)\",\n",
       " '_i48': 'x=5',\n",
       " '_i49': 'def x():\\n    return 5.',\n",
       " '_i50': '# Variables as Functions\\n\\nx=5',\n",
       " '_i51': 'def x():\\n    return 5 ',\n",
       " '_i52': 'print(x.__code__.co_varnames)\\nprint(x.__code__.co_code)',\n",
       " '_i53': \"text = '''\\nBeautiful is better than ugly.\\nExplicity is better than implicit.\\nSimple is better yhan complex.\\nComplex is bettr than complicated.\\nFlat is better than nested.\\nSparse is better than dense.\\nReadability counts.\\n\\n'''\",\n",
       " '_i54': \"def lowercase(text):\\n    return text.lower()\\n\\ndef removePunctuation(text):\\n    punctuations = ['.', '-', ',', '*']\\n    for punctuation in punctuations:\\n        text = text.replace(punctuation, '')\\n    return text\\n\\ndef removeNewLines(text):\\n    text = text.replace('\\\\n', ' ')\\n    return text\\n\\ndef removeShortWords(text):\\n    return ' '.join([word for word in text.split() if len(word) > 3])\\n\\ndef removeLongWords(text):\\n    return ' '.join([word for word in text.split() if len(word) < 6])\",\n",
       " '_i55': '# Lambda Function \\n\\n2 + 3',\n",
       " '_55': 5,\n",
       " '_i56': '(lambda x: x +3)(5)',\n",
       " '_56': 8,\n",
       " '_i57': 'myList = [5,4,3,2]\\nsorted(myList)',\n",
       " '_57': [2, 3, 4, 5],\n",
       " '_i58': \"myList = [{'num': 3}, {'num': 2}, {'num': 1}]\\nsorted(myList, key=lambda x: x['num'])\",\n",
       " '_58': [{'num': 1}, {'num': 2}, {'num': 3}],\n",
       " '_i59': '# Lambda Fuctions Exercise 1\\n\\nimport random\\nimport time',\n",
       " '_i60': \"servicesAreUp = True\\n\\ndef getData50():\\n    if servicesAreUp and random.random() < 0.5:\\n        return 'You got the data! That only happens 50% of the time!'\\n\\ndef getData25():\\n    if servicesAreUp and random.random() < 0.25:\\n        return 'You got the data! That only happens 25% of the time!'     \\n\\ndef getData10():\\n    if servicesAreUp and random.random() < 0.1:\\n        return 'You got the data! That only happens 10% of the time!'  \",\n",
       " '_i61': 'def getWithRetry(dataFunc):\\n    maxRetries = 20\\n    for _ in range(0, maxRetries):\\n        response = dataFunc()\\n        if response:\\n            return response',\n",
       " '_i62': \"var1 = 1\\nvar2 = 2 \\ndef someFunc(var1):\\n    print(f'{var1}, {var2}') \\n    someFunc(3)\",\n",
       " '_i63': '(lambda x: x*3)(5) + 2',\n",
       " '_63': 17,\n",
       " '_i64': '456 % 10',\n",
       " '_64': 6,\n",
       " '_i65': 'var = (1,2,3)\\nvar.append(4)',\n",
       " '_i66': 'import math',\n",
       " '_i67': \"def performOperation(num1, num2, operation):\\n    if operation == 'sum':\\n        return num1 + num2\\n    if operation == 'multiply':\\n        return num1 * num2\\n    \\nperformOperation(2,3, 'sum')\",\n",
       " '_67': 5,\n",
       " '_i68': \"performOperation(2,3, 'multiply')\",\n",
       " '_68': 6,\n",
       " '_i69': 'def performOperation(num1, num2, operation=\\'sum\\', message=\\'Default message\\'):\\n    print(message)\\n    if operation == \"sum\":\\n        return num1 + num2\\n    if operation == \\'multiply\\':\\n        return num1 * num2\\n    \\nperformOperation(2,3, message=\\'A new message!\\', operation=\\'multiply\\')',\n",
       " '_69': 6,\n",
       " '_i70': 'def performOperation(*args):\\n    print(args)\\nperformOperation(1,2,3)',\n",
       " '_i71': \"def performOperation(*args, **kwargs):\\n    print(args)\\n    print(kwargs)\\nperformOperation(1,2,3, operation='sum')\",\n",
       " '_i72': \"def performOperation(*args, operation='sum'):\\n    if operation == 'sum':\\n        return sum(args)\\n    if operation == 'multiply':\\n        return math.prod(args)\\n    \\nperformOperation(1,2,3,6,7,8, operation='sum')\",\n",
       " '_72': 27,\n",
       " '_i73': \"def performOperation(*args, **kwargs):\\n    print(args)\\n    print(kwargs)\\n\\nperformOperation(1,2, operation='sum')\",\n",
       " '_i74': \"#Locals\\n\\ndef performOperation(num1, num2, operation='sum'):\\n    print(locals())\\n\\nperformOperation(1,2, operation='multiply')\",\n",
       " '_i75': 'globals()'}"
      ]
     },
     "execution_count": 75,
     "metadata": {},
     "output_type": "execute_result"
    }
   ],
   "source": [
    "globals()"
   ]
  },
  {
   "cell_type": "code",
   "execution_count": 76,
   "metadata": {},
   "outputs": [
    {
     "name": "stdout",
     "output_type": "stream",
     "text": [
      "Some golbal data\n",
      "{'varA': 1, 'varB': 2}\n",
      "Some golbal data\n",
      "{'varC': 3, 'varD': 4}\n"
     ]
    }
   ],
   "source": [
    "message = 'Some golbal data'\n",
    "\n",
    "def function1(varA, varB):\n",
    "    print(message)\n",
    "    print(locals())\n",
    "\n",
    "def function2(varC, varD):\n",
    "    print(message)\n",
    "    print(locals())\n",
    "\n",
    "function1(1,2)\n",
    "function2(3,4)"
   ]
  },
  {
   "cell_type": "code",
   "execution_count": 77,
   "metadata": {},
   "outputs": [
    {
     "name": "stdout",
     "output_type": "stream",
     "text": [
      "1\n",
      "Some local data\n",
      "{'varA': 1, 'varB': 2, 'message': 'Some local data'}\n",
      "2\n",
      "Some global data\n",
      "{'varC': 3, 'varD': 4}\n"
     ]
    }
   ],
   "source": [
    "message = 'Some global data'\n",
    "varA = 2\n",
    "def function1(varA, varB):\n",
    "    message ='Some local data'\n",
    "    print(varA)\n",
    "    print(message)\n",
    "    print(locals())\n",
    "\n",
    "def function2(varC, varD):\n",
    "    print(varA)\n",
    "    print(message)\n",
    "    print(locals())\n",
    "\n",
    "function1(1,2)\n",
    "function2(3,4)"
   ]
  },
  {
   "cell_type": "code",
   "execution_count": 78,
   "metadata": {},
   "outputs": [],
   "source": [
    "x=5"
   ]
  },
  {
   "cell_type": "code",
   "execution_count": 79,
   "metadata": {},
   "outputs": [],
   "source": [
    "def x():\n",
    "    return 5."
   ]
  },
  {
   "cell_type": "code",
   "execution_count": 80,
   "metadata": {},
   "outputs": [],
   "source": [
    "# Variables as Functions\n",
    "\n",
    "x=5"
   ]
  },
  {
   "cell_type": "code",
   "execution_count": 81,
   "metadata": {},
   "outputs": [],
   "source": [
    "def x():\n",
    "    return 5 "
   ]
  },
  {
   "cell_type": "code",
   "execution_count": 82,
   "metadata": {},
   "outputs": [
    {
     "name": "stdout",
     "output_type": "stream",
     "text": [
      "()\n",
      "b'\\x97\\x00y\\x01'\n"
     ]
    }
   ],
   "source": [
    "print(x.__code__.co_varnames)\n",
    "print(x.__code__.co_code)"
   ]
  },
  {
   "cell_type": "code",
   "execution_count": 83,
   "metadata": {},
   "outputs": [],
   "source": [
    "text = '''\n",
    "Beautiful is better than ugly.\n",
    "Explicity is better than implicit.\n",
    "Simple is better yhan complex.\n",
    "Complex is bettr than complicated.\n",
    "Flat is better than nested.\n",
    "Sparse is better than dense.\n",
    "Readability counts.\n",
    "\n",
    "'''"
   ]
  },
  {
   "cell_type": "code",
   "execution_count": 84,
   "metadata": {},
   "outputs": [],
   "source": [
    "def lowercase(text):\n",
    "    return text.lower()\n",
    "\n",
    "def removePunctuation(text):\n",
    "    punctuations = ['.', '-', ',', '*']\n",
    "    for punctuation in punctuations:\n",
    "        text = text.replace(punctuation, '')\n",
    "    return text\n",
    "\n",
    "def removeNewLines(text):\n",
    "    text = text.replace('\\n', ' ')\n",
    "    return text\n",
    "\n",
    "def removeShortWords(text):\n",
    "    return ' '.join([word for word in text.split() if len(word) > 3])\n",
    "\n",
    "def removeLongWords(text):\n",
    "    return ' '.join([word for word in text.split() if len(word) < 6])"
   ]
  },
  {
   "cell_type": "code",
   "execution_count": 85,
   "metadata": {},
   "outputs": [
    {
     "data": {
      "text/plain": [
       "5"
      ]
     },
     "execution_count": 85,
     "metadata": {},
     "output_type": "execute_result"
    }
   ],
   "source": [
    "# Lambda Function \n",
    "\n",
    "2 + 3"
   ]
  },
  {
   "cell_type": "code",
   "execution_count": 86,
   "metadata": {},
   "outputs": [
    {
     "data": {
      "text/plain": [
       "8"
      ]
     },
     "execution_count": 86,
     "metadata": {},
     "output_type": "execute_result"
    }
   ],
   "source": [
    "(lambda x: x +3)(5)"
   ]
  },
  {
   "cell_type": "code",
   "execution_count": 87,
   "metadata": {},
   "outputs": [
    {
     "data": {
      "text/plain": [
       "[2, 3, 4, 5]"
      ]
     },
     "execution_count": 87,
     "metadata": {},
     "output_type": "execute_result"
    }
   ],
   "source": [
    "myList = [5,4,3,2]\n",
    "sorted(myList)"
   ]
  },
  {
   "cell_type": "code",
   "execution_count": 88,
   "metadata": {},
   "outputs": [
    {
     "data": {
      "text/plain": [
       "[{'num': 1}, {'num': 2}, {'num': 3}]"
      ]
     },
     "execution_count": 88,
     "metadata": {},
     "output_type": "execute_result"
    }
   ],
   "source": [
    "myList = [{'num': 3}, {'num': 2}, {'num': 1}]\n",
    "sorted(myList, key=lambda x: x['num'])"
   ]
  },
  {
   "cell_type": "code",
   "execution_count": 89,
   "metadata": {},
   "outputs": [],
   "source": [
    "# Lambda Fuctions Exercise 1\n",
    "\n",
    "import random\n",
    "import time"
   ]
  },
  {
   "cell_type": "code",
   "execution_count": 90,
   "metadata": {},
   "outputs": [],
   "source": [
    "servicesAreUp = True\n",
    "\n",
    "def getData50():\n",
    "    if servicesAreUp and random.random() < 0.5:\n",
    "        return 'You got the data! That only happens 50% of the time!'\n",
    "\n",
    "def getData25():\n",
    "    if servicesAreUp and random.random() < 0.25:\n",
    "        return 'You got the data! That only happens 25% of the time!'     \n",
    "\n",
    "def getData10():\n",
    "    if servicesAreUp and random.random() < 0.1:\n",
    "        return 'You got the data! That only happens 10% of the time!'  "
   ]
  },
  {
   "cell_type": "code",
   "execution_count": 91,
   "metadata": {},
   "outputs": [],
   "source": [
    "def getWithRetry(dataFunc):\n",
    "    maxRetries = 20\n",
    "    for _ in range(0, maxRetries):\n",
    "        response = dataFunc()\n",
    "        if response:\n",
    "            return response"
   ]
  },
  {
   "cell_type": "code",
   "execution_count": 92,
   "metadata": {},
   "outputs": [],
   "source": [
    "var1 = 1\n",
    "var2 = 2 \n",
    "def someFunc(var1):\n",
    "    print(f'{var1}, {var2}') \n",
    "    someFunc(3)"
   ]
  },
  {
   "cell_type": "code",
   "execution_count": 93,
   "metadata": {},
   "outputs": [
    {
     "data": {
      "text/plain": [
       "17"
      ]
     },
     "execution_count": 93,
     "metadata": {},
     "output_type": "execute_result"
    }
   ],
   "source": [
    "(lambda x: x*3)(5) + 2"
   ]
  },
  {
   "cell_type": "code",
   "execution_count": 94,
   "metadata": {},
   "outputs": [
    {
     "data": {
      "text/plain": [
       "6"
      ]
     },
     "execution_count": 94,
     "metadata": {},
     "output_type": "execute_result"
    }
   ],
   "source": [
    "456 % 10"
   ]
  },
  {
   "cell_type": "code",
   "execution_count": 95,
   "metadata": {},
   "outputs": [
    {
     "ename": "AttributeError",
     "evalue": "'tuple' object has no attribute 'append'",
     "output_type": "error",
     "traceback": [
      "\u001b[1;31m---------------------------------------------------------------------------\u001b[0m",
      "\u001b[1;31mAttributeError\u001b[0m                            Traceback (most recent call last)",
      "Cell \u001b[1;32mIn[95], line 2\u001b[0m\n\u001b[0;32m      1\u001b[0m var \u001b[38;5;241m=\u001b[39m (\u001b[38;5;241m1\u001b[39m,\u001b[38;5;241m2\u001b[39m,\u001b[38;5;241m3\u001b[39m)\n\u001b[1;32m----> 2\u001b[0m \u001b[43mvar\u001b[49m\u001b[38;5;241;43m.\u001b[39;49m\u001b[43mappend\u001b[49m(\u001b[38;5;241m4\u001b[39m)\n",
      "\u001b[1;31mAttributeError\u001b[0m: 'tuple' object has no attribute 'append'"
     ]
    }
   ],
   "source": [
    "var = (1,2,3)\n",
    "var.append(4)"
   ]
  },
  {
   "cell_type": "code",
   "execution_count": null,
   "metadata": {},
   "outputs": [],
   "source": [
    "# Anatomy of a Class"
   ]
  },
  {
   "cell_type": "code",
   "execution_count": 96,
   "metadata": {},
   "outputs": [
    {
     "name": "stdout",
     "output_type": "stream",
     "text": [
      "Rover\n",
      "4\n"
     ]
    }
   ],
   "source": [
    "# Instance Atrributes\n",
    "\n",
    "class Dog:\n",
    "    def __init__(self, name):\n",
    "        self.name = name\n",
    "        self.legs = 4\n",
    "\n",
    "    def speak (self):\n",
    "        print(self.name + 'says: Bark!')\n",
    "\n",
    "myDog = Dog('Rover')\n",
    "print(myDog.name)\n",
    "print(myDog.legs)\n"
   ]
  },
  {
   "cell_type": "code",
   "execution_count": 97,
   "metadata": {},
   "outputs": [
    {
     "data": {
      "text/plain": [
       "4"
      ]
     },
     "execution_count": 97,
     "metadata": {},
     "output_type": "execute_result"
    }
   ],
   "source": [
    "myDog.legs"
   ]
  },
  {
   "cell_type": "code",
   "execution_count": 98,
   "metadata": {},
   "outputs": [
    {
     "data": {
      "text/plain": [
       "'Rover'"
      ]
     },
     "execution_count": 98,
     "metadata": {},
     "output_type": "execute_result"
    }
   ],
   "source": [
    "myDog.name"
   ]
  },
  {
   "cell_type": "code",
   "execution_count": 99,
   "metadata": {},
   "outputs": [
    {
     "name": "stdout",
     "output_type": "stream",
     "text": [
      "Rover\n",
      "4\n"
     ]
    }
   ],
   "source": [
    "# Static Attributes\n",
    "\n",
    "class Dog:\n",
    "    legs = 4\n",
    "    def __init__(self,name):\n",
    "        self.name = name\n",
    "\n",
    "    def speak(self):\n",
    "        print(self.name + 'says: Bark!') \n",
    "\n",
    "myDog = Dog('Rover')\n",
    "print(myDog.name)\n",
    "print(myDog.legs)\n"
   ]
  },
  {
   "cell_type": "code",
   "execution_count": 100,
   "metadata": {},
   "outputs": [
    {
     "data": {
      "text/plain": [
       "4"
      ]
     },
     "execution_count": 100,
     "metadata": {},
     "output_type": "execute_result"
    }
   ],
   "source": [
    "Dog.legs"
   ]
  },
  {
   "cell_type": "code",
   "execution_count": 101,
   "metadata": {},
   "outputs": [],
   "source": [
    "Dog.legs = 3"
   ]
  },
  {
   "cell_type": "code",
   "execution_count": 102,
   "metadata": {},
   "outputs": [
    {
     "name": "stdout",
     "output_type": "stream",
     "text": [
      "Rover\n",
      "3\n"
     ]
    }
   ],
   "source": [
    "myDog = Dog('Rover')\n",
    "print(myDog.name)\n",
    "print(myDog.legs)"
   ]
  },
  {
   "cell_type": "code",
   "execution_count": 103,
   "metadata": {},
   "outputs": [
    {
     "name": "stdout",
     "output_type": "stream",
     "text": [
      "{'i', 'add', 'want', 'is', 'im', 'a', 'another', 'here', 'ryan', 'hi', 'sentence', 'to'}\n"
     ]
    }
   ],
   "source": [
    "class WordSet:\n",
    "    def __init__(self):\n",
    "        self.words = set()\n",
    "    \n",
    "    def addText(self, text):\n",
    "        text = WordSet.cleanText(text)\n",
    "        for word in text.split():\n",
    "            self.words.add(word)\n",
    "\n",
    "\n",
    "    def cleanText(text):\n",
    "        # chaining Functions\n",
    "        text = text.replace('!', '').replace('.', '').replace(',', '').replace('\\'','')\n",
    "        return text.lower()\n",
    "\n",
    "wordSet = WordSet()\n",
    "\n",
    "wordSet.addText('Hi, I\\'m Ryan! Here is a sentence I want to add!')\n",
    "wordSet.addText('Here is another sentence I want to add.')\n",
    "\n",
    "print(wordSet.words)"
   ]
  },
  {
   "cell_type": "code",
   "execution_count": 104,
   "metadata": {},
   "outputs": [],
   "source": [
    "# Class Inheritance\n",
    "\n",
    "class Dog:\n",
    "    _legs = 4\n",
    "    def __init__(self, name):\n",
    "        self.name = name\n",
    "\n",
    "    def speak(self):\n",
    "        print(self.name + ' says: Bark!')\n",
    "\n",
    "    def getLegs(self):\n",
    "        return self._legs\n",
    "    \n",
    "class Chihuahua(Dog):\n",
    "        def speak(self):\n",
    "            print(f'{self.name} says: Yap yap yap!')\n",
    "\n",
    "        def wagTail(self):\n",
    "         print('Vigorous wagging!')"
   ]
  },
  {
   "cell_type": "code",
   "execution_count": null,
   "metadata": {},
   "outputs": [],
   "source": [
    "dog = Chihuahua('Roxy')\n",
    "dog.speak()\n",
    "dog.wagTail()"
   ]
  },
  {
   "cell_type": "code",
   "execution_count": 105,
   "metadata": {},
   "outputs": [
    {
     "name": "stdout",
     "output_type": "stream",
     "text": [
      "Rover says: Bark!\n"
     ]
    }
   ],
   "source": [
    "myDog = Dog('Rover')\n",
    "myDog.speak()"
   ]
  },
  {
   "cell_type": "code",
   "execution_count": 106,
   "metadata": {},
   "outputs": [],
   "source": [
    "# Extending built-in classes\n",
    "\n",
    "myList = list()"
   ]
  },
  {
   "cell_type": "code",
   "execution_count": 107,
   "metadata": {},
   "outputs": [
    {
     "name": "stdout",
     "output_type": "stream",
     "text": [
      "[1, 2]\n"
     ]
    }
   ],
   "source": [
    "class UniqueList(list):\n",
    "    def append(self, item):\n",
    "        if item in self:\n",
    "            return\n",
    "        super().append(item)\n",
    "\n",
    "UniqueList = UniqueList()\n",
    "UniqueList.append(1)\n",
    "UniqueList.append(1)\n",
    "UniqueList.append(2)\n",
    "\n",
    "print(UniqueList)"
   ]
  },
  {
   "cell_type": "code",
   "execution_count": 108,
   "metadata": {},
   "outputs": [
    {
     "name": "stdout",
     "output_type": "stream",
     "text": [
      "Unique List!\n"
     ]
    }
   ],
   "source": [
    "class UniqueList(list):\n",
    "\n",
    "    def __init__(self):\n",
    "        super().__init__()\n",
    "        self.someProperty = 'Unique List!'\n",
    "\n",
    "    def append(self, item):\n",
    "        if item in self:\n",
    "            return\n",
    "        super().append(item)\n",
    "\n",
    "uniqueList = UniqueList()\n",
    "uniqueList.append(1)\n",
    "uniqueList.append(1)\n",
    "uniqueList.append(2)\n",
    "\n",
    "print(uniqueList.someProperty)"
   ]
  },
  {
   "cell_type": "code",
   "execution_count": 109,
   "metadata": {},
   "outputs": [],
   "source": [
    "# Exercise: Extending the Messenger\n",
    "\n",
    "from datetime import datetime\n",
    "\n",
    "def getCurrentTime():\n",
    "    return datetime.now().strftime(\"%m-%d-%Y %H:%M:%S\")\n",
    "\n",
    "class Messenger:\n",
    "    def __init__(self, listeners=[]):\n",
    "        self.listeners = listeners\n",
    "\n",
    "    def send(self, message):\n",
    "        for listener in self.listeners:\n",
    "            listener.receive(message)\n",
    "\n",
    "    def receive(self, message):\n",
    "        # Must be implemented by extending classes\n",
    "        pass\n",
    "\n",
    "class SaveMessages(Messenger):\n",
    "   def __init__(self, listeners=[]):\n",
    "       super().__init__(listeners)\n",
    "       self.messages = []"
   ]
  },
  {
   "cell_type": "code",
   "execution_count": 110,
   "metadata": {},
   "outputs": [
    {
     "data": {
      "text/plain": [
       "<function __main__.causeError()>"
      ]
     },
     "execution_count": 110,
     "metadata": {},
     "output_type": "execute_result"
    }
   ],
   "source": [
    "# Error and Exceptions\n",
    "\n",
    "def causeError():\n",
    "    return 1/0\n",
    "causeError"
   ]
  },
  {
   "cell_type": "code",
   "execution_count": 111,
   "metadata": {},
   "outputs": [
    {
     "name": "stdout",
     "output_type": "stream",
     "text": [
      "<class 'ZeroDivisionError'>\n"
     ]
    }
   ],
   "source": [
    "# Try/Except\n",
    "\n",
    "try:\n",
    "    1/0\n",
    "except Exception as e:\n",
    "    print(type(e))"
   ]
  },
  {
   "cell_type": "code",
   "execution_count": 112,
   "metadata": {},
   "outputs": [],
   "source": [
    "import time"
   ]
  },
  {
   "cell_type": "code",
   "execution_count": 113,
   "metadata": {},
   "outputs": [
    {
     "data": {
      "text/plain": [
       "ZeroDivisionError('division by zero')"
      ]
     },
     "execution_count": 113,
     "metadata": {},
     "output_type": "execute_result"
    }
   ],
   "source": [
    "def causeError():\n",
    "    try:\n",
    "        return 1/0\n",
    "    except Exception as e:\n",
    "        return e\n",
    "\n",
    "causeError()"
   ]
  },
  {
   "cell_type": "code",
   "execution_count": 114,
   "metadata": {},
   "outputs": [
    {
     "name": "stdout",
     "output_type": "stream",
     "text": [
      "There was some sort of error!\n"
     ]
    }
   ],
   "source": [
    "def causeError():\n",
    "    try:\n",
    "        return 1/0\n",
    "    except Exception:\n",
    "        print('There was some sort of error!')\n",
    "\n",
    "causeError()"
   ]
  },
  {
   "cell_type": "code",
   "execution_count": 115,
   "metadata": {},
   "outputs": [
    {
     "name": "stdout",
     "output_type": "stream",
     "text": [
      "This will always execute!\n"
     ]
    },
    {
     "data": {
      "text/plain": [
       "1.0"
      ]
     },
     "execution_count": 115,
     "metadata": {},
     "output_type": "execute_result"
    }
   ],
   "source": [
    "# finally\n",
    "\n",
    "def causeError():\n",
    "    try:\n",
    "        return 1/1\n",
    "    except Exception:\n",
    "        print('There was some sort of error!')\n",
    "    finally:\n",
    "        print('This will always execute!')\n",
    "\n",
    "causeError()"
   ]
  },
  {
   "cell_type": "code",
   "execution_count": 116,
   "metadata": {},
   "outputs": [
    {
     "name": "stdout",
     "output_type": "stream",
     "text": [
      "There was some sort of error!\n",
      "Function took 0.50144362449646 seconds to execute\n"
     ]
    }
   ],
   "source": [
    "def causeError():\n",
    "    start = time.time()\n",
    "    try:\n",
    "        time.sleep(0.5)\n",
    "        return 1/0\n",
    "    except Exception:\n",
    "        print('There was some sort of error!')\n",
    "    finally:\n",
    "        print(f'Function took {time.time() - start} seconds to execute')\n",
    "\n",
    "causeError()"
   ]
  },
  {
   "cell_type": "code",
   "execution_count": 117,
   "metadata": {},
   "outputs": [
    {
     "name": "stdout",
     "output_type": "stream",
     "text": [
      "There was a type error!\n"
     ]
    }
   ],
   "source": [
    "def causeError():\n",
    "    try:\n",
    "        return 1 + 'a'\n",
    "    except TypeError:\n",
    "        print('There was a type error!')\n",
    "    except ZeroDivisionError:\n",
    "        print('There was a zero division error!')\n",
    "    except Exception:\n",
    "        print('There was some sort of error!')\n",
    "\n",
    "causeError()"
   ]
  },
  {
   "cell_type": "code",
   "execution_count": 119,
   "metadata": {},
   "outputs": [
    {
     "name": "stdout",
     "output_type": "stream",
     "text": [
      "There was a zero division error!\n"
     ]
    }
   ],
   "source": [
    "# Custom Decoratiors\n",
    "def handleException(func):\n",
    "    def wrapper(*args):\n",
    "        try:\n",
    "            func(*args)\n",
    "        except TypeError:\n",
    "            print('Thre was a type error!')\n",
    "        except ZeroDivisionError:\n",
    "            print('There was a zero division error!')\n",
    "        except Exception:\n",
    "            print('There was some sort of error!')\n",
    "    return wrapper\n",
    "        \n",
    "@handleException\n",
    "def causeError():\n",
    "    return 1/0\n",
    "    \n",
    "causeError()"
   ]
  },
  {
   "cell_type": "code",
   "execution_count": 120,
   "metadata": {},
   "outputs": [
    {
     "name": "stdout",
     "output_type": "stream",
     "text": [
      "1\n"
     ]
    }
   ],
   "source": [
    "@handleException\n",
    "def raiseError(n):\n",
    "    if n == 0:\n",
    "        raise Exception()\n",
    "    print(n)\n",
    "\n",
    "raiseError(1)\n",
    "    "
   ]
  },
  {
   "cell_type": "code",
   "execution_count": 124,
   "metadata": {},
   "outputs": [
    {
     "ename": "ServerError",
     "evalue": "status code: 500 and message is: (ServerError(), 'Some global data')",
     "output_type": "error",
     "traceback": [
      "\u001b[1;31m---------------------------------------------------------------------------\u001b[0m",
      "\u001b[1;31mServerError\u001b[0m                               Traceback (most recent call last)",
      "Cell \u001b[1;32mIn[124], line 20\u001b[0m\n\u001b[0;32m     17\u001b[0m \u001b[38;5;28;01mdef\u001b[39;00m \u001b[38;5;21mraiseServerError\u001b[39m():\n\u001b[0;32m     18\u001b[0m          \u001b[38;5;28;01mraise\u001b[39;00m  ServerError()\n\u001b[1;32m---> 20\u001b[0m \u001b[43mraiseServerError\u001b[49m\u001b[43m(\u001b[49m\u001b[43m)\u001b[49m\n",
      "Cell \u001b[1;32mIn[124], line 18\u001b[0m, in \u001b[0;36mraiseServerError\u001b[1;34m()\u001b[0m\n\u001b[0;32m     17\u001b[0m \u001b[38;5;28;01mdef\u001b[39;00m \u001b[38;5;21mraiseServerError\u001b[39m():\n\u001b[1;32m---> 18\u001b[0m          \u001b[38;5;28;01mraise\u001b[39;00m  ServerError()\n",
      "\u001b[1;31mServerError\u001b[0m: status code: 500 and message is: (ServerError(), 'Some global data')"
     ]
    }
   ],
   "source": [
    "# Adding Attributes\n",
    "\n",
    "class HttpException(Exception):\n",
    "    statusCode = None\n",
    "    message = None\n",
    "    def __init__(self):\n",
    "        super().__init__(f'status code: {self.statusCode} and message is: {self,message}')\n",
    "\n",
    "class NotFound(HttpException):\n",
    "        statusCode = 404\n",
    "        message = 'Resource not found'\n",
    "\n",
    "class ServerError(HttpException):\n",
    "    statusCode = 500\n",
    "    message = 'The server messedup!'\n",
    "\n",
    "def raiseServerError():\n",
    "         raise  ServerError()\n",
    "    \n",
    "raiseServerError()"
   ]
  },
  {
   "cell_type": "code",
   "execution_count": 125,
   "metadata": {},
   "outputs": [
    {
     "ename": "SyntaxError",
     "evalue": "incomplete input (498147206.py, line 24)",
     "output_type": "error",
     "traceback": [
      "\u001b[1;36m  Cell \u001b[1;32mIn[125], line 24\u001b[1;36m\u001b[0m\n\u001b[1;33m    class SaveMessages(Messenger):\u001b[0m\n\u001b[1;37m                                  ^\u001b[0m\n\u001b[1;31mSyntaxError\u001b[0m\u001b[1;31m:\u001b[0m incomplete input\n"
     ]
    }
   ],
   "source": [
    "# Exercise: Message Exceptions\n",
    "\n",
    "from datetime import datetime\n",
    "\n",
    "def getCurrentTime():\n",
    "    return datetime.now().strftime(\"%m-%d-%Y %H:%M:%S\")\n",
    "\n",
    "class Messenger():\n",
    "    def __init__(self, listeners=[]):\n",
    "        self.listeners = listeners\n",
    "\n",
    "    def send(self, message):\n",
    "        for listener in self.listeners:\n",
    "            listener.receive(message)\n",
    "\n",
    "    def receive(self, message):\n",
    "        # Must be implemented by extending classes\n",
    "        pass\n",
    "\n",
    "class TooManyMessagesException(Exception):\n",
    "    def __init__(self, message):\n",
    "        super().__init__(f'Message \"{message}\" could not be added. Please clear existing message')\n",
    "\n",
    "class SaveMessages(Messenger):"
   ]
  },
  {
   "cell_type": "code",
   "execution_count": null,
   "metadata": {},
   "outputs": [],
   "source": [
    "# Knowledge Check\n",
    "\n",
    "x = 0\n",
    "while(x<5):\n",
    "    print(x)\n",
    "    x=x-1"
   ]
  },
  {
   "cell_type": "code",
   "execution_count": 3,
   "metadata": {},
   "outputs": [],
   "source": [
    "# Multithreading\n",
    "\n",
    "import threading\n",
    "import time"
   ]
  },
  {
   "cell_type": "code",
   "execution_count": 5,
   "metadata": {},
   "outputs": [
    {
     "data": {
      "text/plain": [
       "[0, 1, 4, 9, 16]"
      ]
     },
     "execution_count": 5,
     "metadata": {},
     "output_type": "execute_result"
    }
   ],
   "source": [
    "def longSquare(num):\n",
    "    time.sleep(1)\n",
    "    return num**2\n",
    "\n",
    "[longSquare(n) for n in range(0, 5)]"
   ]
  },
  {
   "cell_type": "code",
   "execution_count": 7,
   "metadata": {},
   "outputs": [],
   "source": [
    "t1 = threading.Thread(target=longSquare, args=(1,))\n",
    "t2 = threading.Thread(target=longSquare, args=(2,))\n",
    "\n",
    "t1.start()\n",
    "t2.start()\n",
    "\n",
    "t1.join()\n",
    "t2.join()"
   ]
  },
  {
   "cell_type": "code",
   "execution_count": 9,
   "metadata": {},
   "outputs": [
    {
     "name": "stdout",
     "output_type": "stream",
     "text": [
      "{2: 4, 1: 1}\n"
     ]
    }
   ],
   "source": [
    "def longSquare(num, reslts):\n",
    "    time.sleep(1)\n",
    "    reslts[num] = num**2\n",
    "\n",
    "results = {}\n",
    "t1 = threading.Thread(target=longSquare, args=(1,results))\n",
    "t2 = threading.Thread(target=longSquare, args=(2,results))\n",
    "\n",
    "t1.start()\n",
    "t2.start()\n",
    "\n",
    "t1.join()\n",
    "t2.join()\n",
    "\n",
    "print(results)"
   ]
  },
  {
   "cell_type": "code",
   "execution_count": 11,
   "metadata": {},
   "outputs": [],
   "source": [
    "# Multiprocessing\n",
    "\n",
    "from multiprocessing import Process\n",
    "import time\n",
    "import threading"
   ]
  },
  {
   "cell_type": "code",
   "execution_count": 13,
   "metadata": {},
   "outputs": [
    {
     "data": {
      "text/plain": [
       "[None, None, None, None, None, None, None, None, None, None]"
      ]
     },
     "execution_count": 13,
     "metadata": {},
     "output_type": "execute_result"
    }
   ],
   "source": [
    "def longSquare(num, reslts):\n",
    "    time.sleep(1)\n",
    "    print(num**2)\n",
    "    print('Finished computing!')\n",
    "\n",
    "results = {}\n",
    "processes = [Process(target=longSquare, args=(n, results)) for n in range (0, 10)]\n",
    "[p.start() for p in processes]\n",
    "[p.join() for p in processes]"
   ]
  },
  {
   "cell_type": "code",
   "execution_count": 30,
   "metadata": {},
   "outputs": [
    {
     "name": "stdout",
     "output_type": "stream",
     "text": [
      "<_io.TextIOWrapper name='10_01_file.txt' mode='r' encoding='cp1252'>\n"
     ]
    }
   ],
   "source": [
    "# Reading Files\n",
    "\n",
    "f = open('10_01_file.txt', 'r')\n",
    "print(f)"
   ]
  },
  {
   "cell_type": "code",
   "execution_count": 36,
   "metadata": {},
   "outputs": [
    {
     "data": {
      "text/plain": [
       "\"'\""
      ]
     },
     "execution_count": 36,
     "metadata": {},
     "output_type": "execute_result"
    }
   ],
   "source": [
    "f.readline()"
   ]
  },
  {
   "cell_type": "code",
   "execution_count": 38,
   "metadata": {},
   "outputs": [
    {
     "data": {
      "text/plain": [
       "[]"
      ]
     },
     "execution_count": 38,
     "metadata": {},
     "output_type": "execute_result"
    }
   ],
   "source": [
    "f.readlines()"
   ]
  },
  {
   "cell_type": "code",
   "execution_count": 40,
   "metadata": {},
   "outputs": [
    {
     "name": "stdout",
     "output_type": "stream",
     "text": [
      "<_io.TextIOWrapper name='10_01_output.txt' mode='w' encoding='cp1252'>\n"
     ]
    }
   ],
   "source": [
    "# writing Files\n",
    "\n",
    "f = open('10_01_output.txt', 'w')\n",
    "print(f)"
   ]
  },
  {
   "cell_type": "code",
   "execution_count": 42,
   "metadata": {},
   "outputs": [
    {
     "data": {
      "text/plain": [
       "7"
      ]
     },
     "execution_count": 42,
     "metadata": {},
     "output_type": "execute_result"
    }
   ],
   "source": [
    "f.write('Line 1\\n')\n",
    "f.write('Line 2\\n')"
   ]
  },
  {
   "cell_type": "code",
   "execution_count": 44,
   "metadata": {},
   "outputs": [],
   "source": [
    "f.close()"
   ]
  },
  {
   "cell_type": "code",
   "execution_count": 46,
   "metadata": {},
   "outputs": [],
   "source": [
    "# Appending Files\n",
    "\n",
    "f = open('10_01_output.txt', 'a')\n",
    "f.write('Line 3\\n')\n",
    "f.write('Line 4\\n')\n",
    "f.close()"
   ]
  },
  {
   "cell_type": "code",
   "execution_count": 49,
   "metadata": {},
   "outputs": [
    {
     "name": "stdout",
     "output_type": "stream",
     "text": [
      "<_io.TextIOWrapper name='10_01_output.txt' mode='a' encoding='cp1252'>\n"
     ]
    }
   ],
   "source": [
    "with open('10_01_output.txt', 'a') as f:\n",
    "    f.write('some stuff\\n')\n",
    "    f.write('some other stuff\\n')\n",
    "\n",
    "print(f)"
   ]
  },
  {
   "cell_type": "code",
   "execution_count": 50,
   "metadata": {},
   "outputs": [
    {
     "ename": "ValueError",
     "evalue": "I/O operation on closed file.",
     "output_type": "error",
     "traceback": [
      "\u001b[1;31m---------------------------------------------------------------------------\u001b[0m",
      "\u001b[1;31mValueError\u001b[0m                                Traceback (most recent call last)",
      "Cell \u001b[1;32mIn[50], line 1\u001b[0m\n\u001b[1;32m----> 1\u001b[0m \u001b[43mf\u001b[49m\u001b[38;5;241;43m.\u001b[39;49m\u001b[43mwrite\u001b[49m\u001b[43m(\u001b[49m\u001b[38;5;124;43m'\u001b[39;49m\u001b[38;5;124;43mPS. I forgot some stuff\u001b[39;49m\u001b[38;5;124;43m'\u001b[39;49m\u001b[43m)\u001b[49m\n",
      "\u001b[1;31mValueError\u001b[0m: I/O operation on closed file."
     ]
    }
   ],
   "source": [
    "f.write('PS. I forgot some stuff')"
   ]
  },
  {
   "cell_type": "code",
   "execution_count": 52,
   "metadata": {},
   "outputs": [],
   "source": [
    "# CSV\n",
    "\n",
    "import csv"
   ]
  },
  {
   "cell_type": "code",
   "execution_count": 59,
   "metadata": {},
   "outputs": [
    {
     "name": "stdout",
     "output_type": "stream",
     "text": [
      "['Name', 'Surname', 'Age', 'Country']\n",
      "['Anati', 'Jack', '40', 'Paris']\n",
      "['Alina ', 'Hricko', '23', 'Ukraine']\n",
      "['Isabel ', 'Walter', '60', 'United Kingdom']\n",
      "['Oladele', ' Damilila', '19', 'Nigeria']\n",
      "<_io.TextIOWrapper name='10_02_us.csv' mode='r' encoding='cp1252'>\n"
     ]
    }
   ],
   "source": [
    "with open('10_02_us.csv', 'r') as f:\n",
    "    reader = csv.reader(f, delimiter='\\t')\n",
    "    for row in reader:\n",
    "        print(row)\n",
    "\n",
    "print(f)\n"
   ]
  }
 ],
 "metadata": {
  "kernelspec": {
   "display_name": "Python 3",
   "language": "python",
   "name": "python3"
  },
  "language_info": {
   "codemirror_mode": {
    "name": "ipython",
    "version": 3
   },
   "file_extension": ".py",
   "mimetype": "text/x-python",
   "name": "python",
   "nbconvert_exporter": "python",
   "pygments_lexer": "ipython3",
   "version": "3.12.2"
  }
 },
 "nbformat": 4,
 "nbformat_minor": 2
}
